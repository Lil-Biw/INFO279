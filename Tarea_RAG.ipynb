{
 "cells": [
  {
   "cell_type": "code",
   "execution_count": 1,
   "id": "588b29f0-f42d-4767-a51f-e1ddb2aaff9c",
   "metadata": {},
   "outputs": [
    {
     "name": "stdout",
     "output_type": "stream",
     "text": [
      "0.5.23\n"
     ]
    }
   ],
   "source": [
    "import chromadb\n",
    "import pandas as pd\n",
    "\n",
    "from langchain.embeddings import OpenAIEmbeddings\n",
    "from langchain_openai import ChatOpenAI\n",
    "from langchain_openai import OpenAI\n",
    "from langchain.prompts import PromptTemplate\n",
    "from langchain.chains import LLMChain\n",
    "from langchain.agents import AgentType\n",
    "from langchain.agents import Tool, initialize_agent\n",
    "\n",
    "import openai\n",
    "import requests\n",
    "import openai\n",
    "import requests\n",
    "\n",
    "from textblob import TextBlob  # Para análisis de sentimientos\n",
    "\n",
    "print(chromadb.__version__)\n",
    "\n",
    "client = chromadb.PersistentClient(path=\".\")\n",
    "collection = client.get_or_create_collection(\"hidrogeno_verde\")\n",
    "df = pd.read_csv('hidrogeno_verde.csv')"
   ]
  },
  {
   "cell_type": "markdown",
   "id": "d3ba2c3d",
   "metadata": {},
   "source": []
  },
  {
   "cell_type": "code",
   "execution_count": 2,
   "id": "ded353d7-435f-418a-b5ec-9d3d16a5abb8",
   "metadata": {},
   "outputs": [],
   "source": [
    "# Convertir la columna 'date' al tipo datetime\n",
    "df['date'] = pd.to_datetime(df['date'], format='%b %d, %Y @ %H:%M:%S.%f')\n",
    "# Formatear la columna 'date' al formato YYYY-MM-DD\n",
    "df['date'] = df['date'].dt.strftime('%Y-%m-%d')"
   ]
  },
  {
   "cell_type": "code",
   "execution_count": 3,
   "id": "3473d43a-0b15-4ab5-897a-f656c3fb9f48",
   "metadata": {},
   "outputs": [],
   "source": [
    "df['combined'] = df['title'] + ' ' + df['text']"
   ]
  },
  {
   "cell_type": "code",
   "execution_count": 4,
   "id": "1b2aac0b-94bb-4a43-9a1a-f363d87be9d0",
   "metadata": {},
   "outputs": [],
   "source": [
    "# Añadir noticias a ChromaDB sin proporcionar los embeddings\n",
    "collection.upsert(\n",
    "    documents=df['combined'].tolist(),\n",
    "        metadatas=[{'media_outlet': row['media_outlet'], 'date': row['date'], 'title': row['title'], 'url': row['url']} for _, row in df.iterrows()],\n",
    "    ids=[f'noticia_{i}' for i in range(len(df))]\n",
    ")\n",
    "### cuidado con la metadata"
   ]
  },
  {
   "cell_type": "code",
   "execution_count": 5,
   "id": "439329b3-a162-4705-8dbc-c4c0dd2e00d2",
   "metadata": {},
   "outputs": [
    {
     "name": "stdout",
     "output_type": "stream",
     "text": [
      "{'ids': [['noticia_23', 'noticia_74', 'noticia_147', 'noticia_379', 'noticia_212']], 'embeddings': None, 'documents': [['ENAP EXPONE AVANCES DE PROYECTOS DE HIDRÓGENO VERDE (empty)', 'Hidrógeno verde: Países Bajos desea aportar en la infraestructura portuaria y ayudar al desarrollo de la cadena de valor – Eliana Ximena Oyarzún Nancuante “Hace algunos años, hemos designado la transición energética como prioridad nacional, ligada a nuestro deber y cumplimiento del Acuerdo de París y la reducción de emisiones y con el hecho de que está cada vez más claro que es necesario diversificar las fuentes de energía”. Así lo planteó la embajadora de los Países Bajos, Carmen Gonsalves, al momento de conversar sobre las potencialidades que tiene para tales fines el desarrollo de e-combustibles y el interés de su gobierno y un conjunto importante de empresas privadas y semiestatales en poder invertir en nuestra región para apoyar el desarrollo de la industria del hidrógeno verde en Magallanes. De hecho, esta noche llegará a Punta Arenas la tercera misión público-privada de los Países Bajos para auscultar el estatus del desarrollo del H2V y, particularmente, las instalaciones portuarias existentes, tanto de la Empresa Portuaria Austral como de Enap. Representantes de las\\xa0 compañías portuarias que manejan los tres puertos neerlandeses más importantes (Rotterdam, Amsterdam y North Sea Port) son parte de esta comitiva. Aunque el discurso es optimista, la embajadora no cierra los ojos frente a posibles óbices y, en sus palabras, “complejidades” que el despliegue de este negocio puede tener en nuestra zona. “Cada región tiene sus desafíos. En Magallanes, la gran ventaja comparativa es la cantidad de vientos, pero, por otro lado, hay complejidades. La complejidad es que en Magallanes hay una biodiversidad abundante y prístina que hay que proteger y, entonces, la implementación de todos los planes de producción de hidrógeno verde tiene que apuntar a que se hagan de la forma más eficiente y efectiva posible con menos impacto posible”, apuntó. La embajadora Gonsalves hizo ver que no se puede dejar de lado el impacto socioeconómico que esta industria tendrá en la zona, el cual será muy grande. “Ello se debe anticipar muy bien para preparar y evitar que no deriven en conflictos sociales y, muy por el contrario, que habrá el mayor beneficio también para la comunidad y la economía local. Entonces, muchos proyectos de capacitación serán parte del desarrollo de la economía de hidrógeno verde en Magallanes. En este sentido, empresas e instituciones neerlandesas podrán contribuir”, señaló. “Nuestros puertos están listos para recibir las exportaciones chilenas de hidrógeno verde” La misión de los Países Bajos llega entendiendo que Chile está realizando esfuerzos para desarrollar y definir una infraestructura en torno a la industria del hidrógeno verde que pueda crear una cadena de valor. El grupo público-privado está atento a las oportunidades abiertas por la necesidad de\\xa0 construir caminos, diseñar y construir terminales, crear una red de oleoductos y\\xa0 levantar instalaciones para almacenar, así como definir y generar infraestructuras eléctricas, plantas desalinizadoras de agua y otras para el tratamiento del aire y electrolizadores. Ven con interés que los puertos deben transformarse o construirse para recibir los equipos necesarios para producir hidrógeno verde y sus derivados, que luego tienen que modificarse para la exportación. También evalúan el desarrollo del capital humano, dada el ingente número de empleados que será necesario para desarrollar todas las etapas de esta industria en Magallanes. El gobierno y las empresas neerlandesas ven una gran oportunidad en la enorme demanda que habrá por información, productos, servicios y experiencia, creyendo que gran parte de tales requerimientos puede ser ofrecido por o a través de organizaciones. La embajadora destacó particularmente el interés de las empresas portuarias neerlandesas por ser parte de la transformación y/o construcción de los terminales adecuados para que desde Magallanes se pueda exportar esta producción. Igualmente, hizo ver que Rotterdam, Amsterdam y North Sea Port son megapuertos claves a la hora de pensar en cerrar el ciclo productivo y distribuir los e-combustibles. “Los puertos en los Países Bajos están listos y preparados al momento que Chile decida exportar. El puerto de Rotterdam es uno de los puertos de entrada de la Unión Europea en cuanto a la inversión de energía y para el noroeste de Europa y todo el polo industrial, que incluye Alemania”, indicó. En esta misión vendrán representantes de 13 a 15 empresas y organismos neerlandeses, como las referidas compañías portuarias, distribuidoras y abastecedoras de gas natural y derivados, productoras de ductos flexibles para transportar gas y otras especializadas en la construcción de terminales e infraestructura diversas, así como consultores de ingeniería. Para la diplomática, es esencial también resaltar que las empresas de Países Bajos “tienen mucho que ofrecer en cuanto al desarrollo de toda la cadena de valor del hidrógeno verde en la economía de Chile, sobre todo desde el momento que el hidrógeno esté producido hasta el transporte en un buque”, indicó. Agregó que las empresas de su país pueden realizar un aporte crucial en todo lo relativo al almacenamiento y toda la infraestructura portuaria que se necesita para transportar el amoniaco y que éste llegue al resto del mundo. Intensa agenda La misión de Países Bajos llegará esta mañana a Santiago, donde Juan Pablo Purcell, de InvestChile, hablará sobre las oportunidades de negocios; Marcos Kulka y Ricardo Rodríguez, de H2Chile, entregarán una visión y estado del desarrollo de esta industria en el país; y Eva Verschoor, a nombre de los socios de Rotterdam, hablará sobre el impacto en el Pib y la logística. La ministra de Energía, Loreta Lancellotti, se referirá a la cooperación. Cerca de la medianoche, el grupo llegará a Punta Arenas, donde tendrá dos días de intenso programa que considera tanto reuniones con autoridades locales y seminarios, como la visita a las instalaciones de Cabo Negro de Enap y la planta de Hif, así como los terminales Prat y Mardones de la Epa. El martes por la tarde volverán a Santiago, donde el miércoles y el jueves participarán en la 5ª Edición de la Cumbre del Hidrógeno Verde de Chile, que reunirá a más de 400 representantes de organizaciones del rubro.', 'Feria permitirá conocer detalles del hidrógeno verde – Eliana Ximena Oyarzún Nancuante Con el objetivo de acercar la industria a la comunidad y educar con respecto a todos los aspectos involucrados, se realizará en Punta Arenas la primera Feria de Hidrógeno Verde. La iniciativa en conjunto del gobierno regional y la Corfo, apunta a que los habitantes de la región entiendan el proceso productivo del hidrógeno verde, así como también el rol que tendrán los servicios públicos, las empresas locales y la academia ante un eventual encadenamiento de esta industria. Su realización está programada para el viernes 12 y sábado 13 de mayo, con un formato novedoso y en un espacio donde se podrá disfrutar de una ubicación privilegiada a orillas del Estrecho de Magallanes, en las dependencia de la Epa en el muelle Arturo Prat. Entre los atractivos se podrá encontrar la “Ruta del hidrógeno”, que permite conocer y entender de manera didáctica cómo es el proceso de producción, en un esfuerzo conjunto entre las empresas desarrolladoras HIF Global, Teg Chile, HNH de Austria Energy y H2 Magallanes de Total Eren. Además, se dispondrán de una veintena de stand con empresas locales, servicios públicos y ofertas académicas. Y durante los dos días habrá interesantes charlas para estudiantes, público en general y profesionales que deseen conocer más sobre está naciente industria.', 'Hidrógeno verde, recordemos el litio Según expertos, Chile tiene una posición privilegiada para ser en uno de los principales productores de hidrógeno verde del mundo, la energía del futuro, dado que al ser en base a energías limpias permitirá descarbonizar al planeta. Escuchamos que poseemos ventajas comparativas para generar energía solar y eólica, principalmente en el norte de nuestro país. La Corfo ha estado trabajando con los ministerios de Energía y Bienes Nacionales para impulsar iniciativas que permitan el desarrollo a escala industrial de hidrógeno verde y sus derivados, lo cual me parece auspicioso. Sin embargo, a inicios del 2010 también escuchamos nuestras ventajas comparativas y únicas para producir litio. El llamado oro blanco. El Estado hizo estudios para idear la mejor manera de otorgar Contratos Especiales de Operación de Litio (CEOL), que permitieran aumentar la producción. Incluso, el 2016, bajo el Gobierno de la Presidenta Bachelet, se elaboró la \\x93Política Nacional del Litio\\x94 y en marzo del 2018 se otorgó el primer CEOL a Codelco para que, en un proyecto junto a privados, comenzara a producir litio en el Salar de Maricunga, el segundo más importante después del de Atacama. Contrato que, por cierto, aún no se materializa por seguir en etapas de estudios. En esta industria también la Corfo ha tenido un rol activo para intentar elevar la producción del mineral no metálico, sin embargo, a la luz del último estudio de Cochilco (2020), vemos que Chile no solo perdió el primer lugar de la producción mundial, siendo superado ampliamente por Australia, si no que hoy el país se ve amenazado con perder el segundo lugar con Argentina. Esperemos que con el Hidrógeno Verde no dejemos pasar la oportunidad y que la institucionalidad que se dará a esta industria sea adecuada, eficaz y oportuna, de tal manera de que no ocurra lo mismo que con el Litio, situación que ciertamente aún es tiempo de revertir. Los salares de Atacama y Maricunga siguen teniendo ventajas comparativas para producir carbonato e hidróxido de litio y, si se generan políticas públicas adecuadas, tal vez podamos recuperar el primer lugar perdido en la producción mundial de Litio. *Director Escuela de Auditoría y Control de Gestión, Universidad Santo Tomás Por favor, inicia sesión en La Tercera para acceder a los comentarios.', 'Ministro y diputados abordan desafíos del hidrógeno verde en nuestra región – Eliana Ximena Oyarzún Nancuante El desarrollo del hidrógeno verde en Magallanes, el desistido proyecto de parque eólico y los desafíos que el gobierno tiene para incentivar esta industria, fueron parte de los temas que se abordaron en la comisión de Energía y Minería de la Cámara de Diputados, instancia a la cual asistieron como invitados el ministro Diego Pardow y los representantes de la Umag, Claudio Gómez y Humberto Vidal. El titular de Energía expuso sobre los avances que el gobierno viene desarrollando en materia energética, dentro de lo cual reconoció que respecto de implementación de hidrógeno verde “la situación muestra algunas deficiencias y la tarea es abordar aquello en la Ley de Presupuestos”. Agregó que lo que se necesita es avanzar en líneas de base y planificación del territorio, razón por la cual en el presupuesto 2023 de su ministerio se pretende implementar planes estratégicos de energía en regiones, como en Magallanes y Los Lagos, entendiendo que en Antofagasta hay un trabajo ya realizado por tratarse de un polo energético importante. Durante su intervención, Pardow se refirió también al retiro del estudio de impacto ambiental del Parque Eólico Faro del Sur: “Esto no es un retiro definitivo, porque más allá de que hemos tenido contacto con las empresas involucradas y con los distintos actores involucrados aquí,\\xa0tengo la impresión que este proyecto se va a volver a someter a la evaluación ambiental. Esto más bien fue un retiro para fortalecer la presentación del proyecto”. Universidad de Magallanes Por su parte el decano de la Facultad de Ingeniería de la Umag, Claudio Gómez, y el director del Centro de Estudios de Recursos Energéticos, Humberto Vidal, expusieron acerca de cómo se visualiza la llegada de la industria de Hidrógeno Verde a Magallanes y el rol que juega su universidad dentro de este futuro escenario. Expresaron que el primer desafío es cómo lograr un desarrollo con equilibrio, albergando las grandes inversiones sin sacrificar el bienestar de la región. En esto, resaltaron, la Universidad de Magallanes debe cumplir un rol fundamental aportando herramientas para que esto se desarrolle de la mejor manera. Plantearon que la asesoría a través del conocimiento que la casa de estudios tiene a través de un trabajo de décadas y de una historia estrechamente ligada al viento es un valor agregado, con elementos como estudios de prospección y una base de datos, además de observar pequeños parques eólicos que por eficiencia superan a otros muy superiores en tamaño. Agregaron que dentro de esa realidad claramente había un factor decidor: el desarrollo adolecía de tener grandes clientes, “y esos grandes clientes hoy están llegando para beneficio de la región. Proyectos de Alemania, Francia e Inglaterra, clientes que hoy quieren lo mismo, que buscan diferentes productos dentro de un\\xa0 mercado atractivo y bajo condiciones técnicas que están. Y nosotros como universidad queremos acompañar este desarrollo, velando para que eso se produzca con el equilibrio que todos queremos”.']], 'uris': None, 'data': None, 'metadatas': [[{'date': '2024-06-27', 'media_outlet': 'laregionhoy', 'title': 'ENAP EXPONE AVANCES DE PROYECTOS DE HIDRÓGENO VERDE', 'url': 'https://laregionhoy.cl/2024/06/28/enap-expone-avances-de-proyectos-de-hidrogeno-verde/'}, {'date': '2023-10-21', 'media_outlet': 'laprensaaustral', 'title': 'Hidrógeno verde: Países Bajos desea aportar en la infraestructura portuaria y ayudar al desarrollo de la cadena de valor', 'url': 'https://laprensaaustral.cl/2023/10/22/hidrogeno-verde-paises-bajos-desea-aportar-en-la-infraestructura-portuaria-y-ayudar-al-desarrollo-de-la-cadena-de-valor/'}, {'date': '2023-05-04', 'media_outlet': 'laprensaaustral', 'title': 'Feria permitirá conocer detalles del hidrógeno verde', 'url': 'https://laprensaaustral.cl/2023/05/05/feria-permitira-conocer-detalles-del-hidrogeno-verde/'}, {'date': '2020-11-23', 'media_outlet': 'latercera', 'title': 'Hidrógeno verde, recordemos el litio', 'url': 'https://www.latercera.com/que-pasa/noticia/hidrogeno-verde-recordemos-el-litio/BEVZJXQXH5BAVFN7REFXEPCYLU/'}, {'date': '2022-10-13', 'media_outlet': 'laprensaaustral', 'title': 'Ministro y diputados abordan desafíos del hidrógeno verde en nuestra región', 'url': 'https://laprensaaustral.cl/2022/10/14/ministro-y-diputados-abordan-desafios-del-hidrogeno-verde-en-nuestra-region/'}]], 'distances': [[0.6142681837081909, 0.6149813532829285, 0.6283185482025146, 0.6297126459037776, 0.6350946426391602]], 'included': [<IncludeEnum.distances: 'distances'>, <IncludeEnum.documents: 'documents'>, <IncludeEnum.metadatas: 'metadatas'>]}\n"
     ]
    }
   ],
   "source": [
    "query = \"¿Cuales son las personas que más se mencionan entre dos fechas sobre la temática del hidrogeno verde?\"\n",
    "results = collection.query(\n",
    "    query_texts=[query],\n",
    "    n_results=5  # Ajusta según cuántos resultados quieras obtener\n",
    ")\n",
    "\n",
    "print(results)"
   ]
  },
  {
   "cell_type": "code",
   "execution_count": null,
   "id": "fe4ad14d-5cf6-4015-8c49-9310bbfbed3c",
   "metadata": {},
   "outputs": [],
   "source": [
    "import openai\n",
    "\n",
    "# Inicializamos la API de OpenAI (ChatGPT)\n",
    "openai.api_key = 'api-api-6j2dFP7NTXvKdFOf3n1j8A'\n"
   ]
  },
  {
   "cell_type": "code",
   "execution_count": 7,
   "id": "b0e2661c-8ea3-40ed-8474-fdb66fd789a9",
   "metadata": {
    "scrolled": true
   },
   "outputs": [
    {
     "name": "stdout",
     "output_type": "stream",
     "text": [
      "[['ENAP EXPONE AVANCES DE PROYECTOS DE HIDRÓGENO VERDE (empty)', 'Hidrógeno verde: Países Bajos desea aportar en la infraestructura portuaria y ayudar al desarrollo de la cadena de valor – Eliana Ximena Oyarzún Nancuante “Hace algunos años, hemos designado la transición energética como prioridad nacional, ligada a nuestro deber y cumplimiento del Acuerdo de París y la reducción de emisiones y con el hecho de que está cada vez más claro que es necesario diversificar las fuentes de energía”. Así lo planteó la embajadora de los Países Bajos, Carmen Gonsalves, al momento de conversar sobre las potencialidades que tiene para tales fines el desarrollo de e-combustibles y el interés de su gobierno y un conjunto importante de empresas privadas y semiestatales en poder invertir en nuestra región para apoyar el desarrollo de la industria del hidrógeno verde en Magallanes. De hecho, esta noche llegará a Punta Arenas la tercera misión público-privada de los Países Bajos para auscultar el estatus del desarrollo del H2V y, particularmente, las instalaciones portuarias existentes, tanto de la Empresa Portuaria Austral como de Enap. Representantes de las\\xa0 compañías portuarias que manejan los tres puertos neerlandeses más importantes (Rotterdam, Amsterdam y North Sea Port) son parte de esta comitiva. Aunque el discurso es optimista, la embajadora no cierra los ojos frente a posibles óbices y, en sus palabras, “complejidades” que el despliegue de este negocio puede tener en nuestra zona. “Cada región tiene sus desafíos. En Magallanes, la gran ventaja comparativa es la cantidad de vientos, pero, por otro lado, hay complejidades. La complejidad es que en Magallanes hay una biodiversidad abundante y prístina que hay que proteger y, entonces, la implementación de todos los planes de producción de hidrógeno verde tiene que apuntar a que se hagan de la forma más eficiente y efectiva posible con menos impacto posible”, apuntó. La embajadora Gonsalves hizo ver que no se puede dejar de lado el impacto socioeconómico que esta industria tendrá en la zona, el cual será muy grande. “Ello se debe anticipar muy bien para preparar y evitar que no deriven en conflictos sociales y, muy por el contrario, que habrá el mayor beneficio también para la comunidad y la economía local. Entonces, muchos proyectos de capacitación serán parte del desarrollo de la economía de hidrógeno verde en Magallanes. En este sentido, empresas e instituciones neerlandesas podrán contribuir”, señaló. “Nuestros puertos están listos para recibir las exportaciones chilenas de hidrógeno verde” La misión de los Países Bajos llega entendiendo que Chile está realizando esfuerzos para desarrollar y definir una infraestructura en torno a la industria del hidrógeno verde que pueda crear una cadena de valor. El grupo público-privado está atento a las oportunidades abiertas por la necesidad de\\xa0 construir caminos, diseñar y construir terminales, crear una red de oleoductos y\\xa0 levantar instalaciones para almacenar, así como definir y generar infraestructuras eléctricas, plantas desalinizadoras de agua y otras para el tratamiento del aire y electrolizadores. Ven con interés que los puertos deben transformarse o construirse para recibir los equipos necesarios para producir hidrógeno verde y sus derivados, que luego tienen que modificarse para la exportación. También evalúan el desarrollo del capital humano, dada el ingente número de empleados que será necesario para desarrollar todas las etapas de esta industria en Magallanes. El gobierno y las empresas neerlandesas ven una gran oportunidad en la enorme demanda que habrá por información, productos, servicios y experiencia, creyendo que gran parte de tales requerimientos puede ser ofrecido por o a través de organizaciones. La embajadora destacó particularmente el interés de las empresas portuarias neerlandesas por ser parte de la transformación y/o construcción de los terminales adecuados para que desde Magallanes se pueda exportar esta producción. Igualmente, hizo ver que Rotterdam, Amsterdam y North Sea Port son megapuertos claves a la hora de pensar en cerrar el ciclo productivo y distribuir los e-combustibles. “Los puertos en los Países Bajos están listos y preparados al momento que Chile decida exportar. El puerto de Rotterdam es uno de los puertos de entrada de la Unión Europea en cuanto a la inversión de energía y para el noroeste de Europa y todo el polo industrial, que incluye Alemania”, indicó. En esta misión vendrán representantes de 13 a 15 empresas y organismos neerlandeses, como las referidas compañías portuarias, distribuidoras y abastecedoras de gas natural y derivados, productoras de ductos flexibles para transportar gas y otras especializadas en la construcción de terminales e infraestructura diversas, así como consultores de ingeniería. Para la diplomática, es esencial también resaltar que las empresas de Países Bajos “tienen mucho que ofrecer en cuanto al desarrollo de toda la cadena de valor del hidrógeno verde en la economía de Chile, sobre todo desde el momento que el hidrógeno esté producido hasta el transporte en un buque”, indicó. Agregó que las empresas de su país pueden realizar un aporte crucial en todo lo relativo al almacenamiento y toda la infraestructura portuaria que se necesita para transportar el amoniaco y que éste llegue al resto del mundo. Intensa agenda La misión de Países Bajos llegará esta mañana a Santiago, donde Juan Pablo Purcell, de InvestChile, hablará sobre las oportunidades de negocios; Marcos Kulka y Ricardo Rodríguez, de H2Chile, entregarán una visión y estado del desarrollo de esta industria en el país; y Eva Verschoor, a nombre de los socios de Rotterdam, hablará sobre el impacto en el Pib y la logística. La ministra de Energía, Loreta Lancellotti, se referirá a la cooperación. Cerca de la medianoche, el grupo llegará a Punta Arenas, donde tendrá dos días de intenso programa que considera tanto reuniones con autoridades locales y seminarios, como la visita a las instalaciones de Cabo Negro de Enap y la planta de Hif, así como los terminales Prat y Mardones de la Epa. El martes por la tarde volverán a Santiago, donde el miércoles y el jueves participarán en la 5ª Edición de la Cumbre del Hidrógeno Verde de Chile, que reunirá a más de 400 representantes de organizaciones del rubro.', 'Feria permitirá conocer detalles del hidrógeno verde – Eliana Ximena Oyarzún Nancuante Con el objetivo de acercar la industria a la comunidad y educar con respecto a todos los aspectos involucrados, se realizará en Punta Arenas la primera Feria de Hidrógeno Verde. La iniciativa en conjunto del gobierno regional y la Corfo, apunta a que los habitantes de la región entiendan el proceso productivo del hidrógeno verde, así como también el rol que tendrán los servicios públicos, las empresas locales y la academia ante un eventual encadenamiento de esta industria. Su realización está programada para el viernes 12 y sábado 13 de mayo, con un formato novedoso y en un espacio donde se podrá disfrutar de una ubicación privilegiada a orillas del Estrecho de Magallanes, en las dependencia de la Epa en el muelle Arturo Prat. Entre los atractivos se podrá encontrar la “Ruta del hidrógeno”, que permite conocer y entender de manera didáctica cómo es el proceso de producción, en un esfuerzo conjunto entre las empresas desarrolladoras HIF Global, Teg Chile, HNH de Austria Energy y H2 Magallanes de Total Eren. Además, se dispondrán de una veintena de stand con empresas locales, servicios públicos y ofertas académicas. Y durante los dos días habrá interesantes charlas para estudiantes, público en general y profesionales que deseen conocer más sobre está naciente industria.', 'Hidrógeno verde, recordemos el litio Según expertos, Chile tiene una posición privilegiada para ser en uno de los principales productores de hidrógeno verde del mundo, la energía del futuro, dado que al ser en base a energías limpias permitirá descarbonizar al planeta. Escuchamos que poseemos ventajas comparativas para generar energía solar y eólica, principalmente en el norte de nuestro país. La Corfo ha estado trabajando con los ministerios de Energía y Bienes Nacionales para impulsar iniciativas que permitan el desarrollo a escala industrial de hidrógeno verde y sus derivados, lo cual me parece auspicioso. Sin embargo, a inicios del 2010 también escuchamos nuestras ventajas comparativas y únicas para producir litio. El llamado oro blanco. El Estado hizo estudios para idear la mejor manera de otorgar Contratos Especiales de Operación de Litio (CEOL), que permitieran aumentar la producción. Incluso, el 2016, bajo el Gobierno de la Presidenta Bachelet, se elaboró la \\x93Política Nacional del Litio\\x94 y en marzo del 2018 se otorgó el primer CEOL a Codelco para que, en un proyecto junto a privados, comenzara a producir litio en el Salar de Maricunga, el segundo más importante después del de Atacama. Contrato que, por cierto, aún no se materializa por seguir en etapas de estudios. En esta industria también la Corfo ha tenido un rol activo para intentar elevar la producción del mineral no metálico, sin embargo, a la luz del último estudio de Cochilco (2020), vemos que Chile no solo perdió el primer lugar de la producción mundial, siendo superado ampliamente por Australia, si no que hoy el país se ve amenazado con perder el segundo lugar con Argentina. Esperemos que con el Hidrógeno Verde no dejemos pasar la oportunidad y que la institucionalidad que se dará a esta industria sea adecuada, eficaz y oportuna, de tal manera de que no ocurra lo mismo que con el Litio, situación que ciertamente aún es tiempo de revertir. Los salares de Atacama y Maricunga siguen teniendo ventajas comparativas para producir carbonato e hidróxido de litio y, si se generan políticas públicas adecuadas, tal vez podamos recuperar el primer lugar perdido en la producción mundial de Litio. *Director Escuela de Auditoría y Control de Gestión, Universidad Santo Tomás Por favor, inicia sesión en La Tercera para acceder a los comentarios.', 'Ministro y diputados abordan desafíos del hidrógeno verde en nuestra región – Eliana Ximena Oyarzún Nancuante El desarrollo del hidrógeno verde en Magallanes, el desistido proyecto de parque eólico y los desafíos que el gobierno tiene para incentivar esta industria, fueron parte de los temas que se abordaron en la comisión de Energía y Minería de la Cámara de Diputados, instancia a la cual asistieron como invitados el ministro Diego Pardow y los representantes de la Umag, Claudio Gómez y Humberto Vidal. El titular de Energía expuso sobre los avances que el gobierno viene desarrollando en materia energética, dentro de lo cual reconoció que respecto de implementación de hidrógeno verde “la situación muestra algunas deficiencias y la tarea es abordar aquello en la Ley de Presupuestos”. Agregó que lo que se necesita es avanzar en líneas de base y planificación del territorio, razón por la cual en el presupuesto 2023 de su ministerio se pretende implementar planes estratégicos de energía en regiones, como en Magallanes y Los Lagos, entendiendo que en Antofagasta hay un trabajo ya realizado por tratarse de un polo energético importante. Durante su intervención, Pardow se refirió también al retiro del estudio de impacto ambiental del Parque Eólico Faro del Sur: “Esto no es un retiro definitivo, porque más allá de que hemos tenido contacto con las empresas involucradas y con los distintos actores involucrados aquí,\\xa0tengo la impresión que este proyecto se va a volver a someter a la evaluación ambiental. Esto más bien fue un retiro para fortalecer la presentación del proyecto”. Universidad de Magallanes Por su parte el decano de la Facultad de Ingeniería de la Umag, Claudio Gómez, y el director del Centro de Estudios de Recursos Energéticos, Humberto Vidal, expusieron acerca de cómo se visualiza la llegada de la industria de Hidrógeno Verde a Magallanes y el rol que juega su universidad dentro de este futuro escenario. Expresaron que el primer desafío es cómo lograr un desarrollo con equilibrio, albergando las grandes inversiones sin sacrificar el bienestar de la región. En esto, resaltaron, la Universidad de Magallanes debe cumplir un rol fundamental aportando herramientas para que esto se desarrolle de la mejor manera. Plantearon que la asesoría a través del conocimiento que la casa de estudios tiene a través de un trabajo de décadas y de una historia estrechamente ligada al viento es un valor agregado, con elementos como estudios de prospección y una base de datos, además de observar pequeños parques eólicos que por eficiencia superan a otros muy superiores en tamaño. Agregaron que dentro de esa realidad claramente había un factor decidor: el desarrollo adolecía de tener grandes clientes, “y esos grandes clientes hoy están llegando para beneficio de la región. Proyectos de Alemania, Francia e Inglaterra, clientes que hoy quieren lo mismo, que buscan diferentes productos dentro de un\\xa0 mercado atractivo y bajo condiciones técnicas que están. Y nosotros como universidad queremos acompañar este desarrollo, velando para que eso se produzca con el equilibrio que todos queremos”.']]\n",
      "['ENAP EXPONE AVANCES DE PROYECTOS DE HIDRÓGENO VERDE (empty)', 'Hidrógeno verde: Países Bajos desea aportar en la infraestructura portuaria y ayudar al desarrollo de la cadena de valor – Eliana Ximena Oyarzún Nancuante “Hace algunos años, hemos designado la transición energética como prioridad nacional, ligada a nuestro deber y cumplimiento del Acuerdo de París y la reducción de emisiones y con el hecho de que está cada vez más claro que es necesario diversificar las fuentes de energía”. Así lo planteó la embajadora de los Países Bajos, Carmen Gonsalves, al momento de conversar sobre las potencialidades que tiene para tales fines el desarrollo de e-combustibles y el interés de su gobierno y un conjunto importante de empresas privadas y semiestatales en poder invertir en nuestra región para apoyar el desarrollo de la industria del hidrógeno verde en Magallanes. De hecho, esta noche llegará a Punta Arenas la tercera misión público-privada de los Países Bajos para auscultar el estatus del desarrollo del H2V y, particularmente, las instalaciones portuarias existentes, tanto de la Empresa Portuaria Austral como de Enap. Representantes de las\\xa0 compañías portuarias que manejan los tres puertos neerlandeses más importantes (Rotterdam, Amsterdam y North Sea Port) son parte de esta comitiva. Aunque el discurso es optimista, la embajadora no cierra los ojos frente a posibles óbices y, en sus palabras, “complejidades” que el despliegue de este negocio puede tener en nuestra zona. “Cada región tiene sus desafíos. En Magallanes, la gran ventaja comparativa es la cantidad de vientos, pero, por otro lado, hay complejidades. La complejidad es que en Magallanes hay una biodiversidad abundante y prístina que hay que proteger y, entonces, la implementación de todos los planes de producción de hidrógeno verde tiene que apuntar a que se hagan de la forma más eficiente y efectiva posible con menos impacto posible”, apuntó. La embajadora Gonsalves hizo ver que no se puede dejar de lado el impacto socioeconómico que esta industria tendrá en la zona, el cual será muy grande. “Ello se debe anticipar muy bien para preparar y evitar que no deriven en conflictos sociales y, muy por el contrario, que habrá el mayor beneficio también para la comunidad y la economía local. Entonces, muchos proyectos de capacitación serán parte del desarrollo de la economía de hidrógeno verde en Magallanes. En este sentido, empresas e instituciones neerlandesas podrán contribuir”, señaló. “Nuestros puertos están listos para recibir las exportaciones chilenas de hidrógeno verde” La misión de los Países Bajos llega entendiendo que Chile está realizando esfuerzos para desarrollar y definir una infraestructura en torno a la industria del hidrógeno verde que pueda crear una cadena de valor. El grupo público-privado está atento a las oportunidades abiertas por la necesidad de\\xa0 construir caminos, diseñar y construir terminales, crear una red de oleoductos y\\xa0 levantar instalaciones para almacenar, así como definir y generar infraestructuras eléctricas, plantas desalinizadoras de agua y otras para el tratamiento del aire y electrolizadores. Ven con interés que los puertos deben transformarse o construirse para recibir los equipos necesarios para producir hidrógeno verde y sus derivados, que luego tienen que modificarse para la exportación. También evalúan el desarrollo del capital humano, dada el ingente número de empleados que será necesario para desarrollar todas las etapas de esta industria en Magallanes. El gobierno y las empresas neerlandesas ven una gran oportunidad en la enorme demanda que habrá por información, productos, servicios y experiencia, creyendo que gran parte de tales requerimientos puede ser ofrecido por o a través de organizaciones. La embajadora destacó particularmente el interés de las empresas portuarias neerlandesas por ser parte de la transformación y/o construcción de los terminales adecuados para que desde Magallanes se pueda exportar esta producción. Igualmente, hizo ver que Rotterdam, Amsterdam y North Sea Port son megapuertos claves a la hora de pensar en cerrar el ciclo productivo y distribuir los e-combustibles. “Los puertos en los Países Bajos están listos y preparados al momento que Chile decida exportar. El puerto de Rotterdam es uno de los puertos de entrada de la Unión Europea en cuanto a la inversión de energía y para el noroeste de Europa y todo el polo industrial, que incluye Alemania”, indicó. En esta misión vendrán representantes de 13 a 15 empresas y organismos neerlandeses, como las referidas compañías portuarias, distribuidoras y abastecedoras de gas natural y derivados, productoras de ductos flexibles para transportar gas y otras especializadas en la construcción de terminales e infraestructura diversas, así como consultores de ingeniería. Para la diplomática, es esencial también resaltar que las empresas de Países Bajos “tienen mucho que ofrecer en cuanto al desarrollo de toda la cadena de valor del hidrógeno verde en la economía de Chile, sobre todo desde el momento que el hidrógeno esté producido hasta el transporte en un buque”, indicó. Agregó que las empresas de su país pueden realizar un aporte crucial en todo lo relativo al almacenamiento y toda la infraestructura portuaria que se necesita para transportar el amoniaco y que éste llegue al resto del mundo. Intensa agenda La misión de Países Bajos llegará esta mañana a Santiago, donde Juan Pablo Purcell, de InvestChile, hablará sobre las oportunidades de negocios; Marcos Kulka y Ricardo Rodríguez, de H2Chile, entregarán una visión y estado del desarrollo de esta industria en el país; y Eva Verschoor, a nombre de los socios de Rotterdam, hablará sobre el impacto en el Pib y la logística. La ministra de Energía, Loreta Lancellotti, se referirá a la cooperación. Cerca de la medianoche, el grupo llegará a Punta Arenas, donde tendrá dos días de intenso programa que considera tanto reuniones con autoridades locales y seminarios, como la visita a las instalaciones de Cabo Negro de Enap y la planta de Hif, así como los terminales Prat y Mardones de la Epa. El martes por la tarde volverán a Santiago, donde el miércoles y el jueves participarán en la 5ª Edición de la Cumbre del Hidrógeno Verde de Chile, que reunirá a más de 400 representantes de organizaciones del rubro.', 'Feria permitirá conocer detalles del hidrógeno verde – Eliana Ximena Oyarzún Nancuante Con el objetivo de acercar la industria a la comunidad y educar con respecto a todos los aspectos involucrados, se realizará en Punta Arenas la primera Feria de Hidrógeno Verde. La iniciativa en conjunto del gobierno regional y la Corfo, apunta a que los habitantes de la región entiendan el proceso productivo del hidrógeno verde, así como también el rol que tendrán los servicios públicos, las empresas locales y la academia ante un eventual encadenamiento de esta industria. Su realización está programada para el viernes 12 y sábado 13 de mayo, con un formato novedoso y en un espacio donde se podrá disfrutar de una ubicación privilegiada a orillas del Estrecho de Magallanes, en las dependencia de la Epa en el muelle Arturo Prat. Entre los atractivos se podrá encontrar la “Ruta del hidrógeno”, que permite conocer y entender de manera didáctica cómo es el proceso de producción, en un esfuerzo conjunto entre las empresas desarrolladoras HIF Global, Teg Chile, HNH de Austria Energy y H2 Magallanes de Total Eren. Además, se dispondrán de una veintena de stand con empresas locales, servicios públicos y ofertas académicas. Y durante los dos días habrá interesantes charlas para estudiantes, público en general y profesionales que deseen conocer más sobre está naciente industria.', 'Hidrógeno verde, recordemos el litio Según expertos, Chile tiene una posición privilegiada para ser en uno de los principales productores de hidrógeno verde del mundo, la energía del futuro, dado que al ser en base a energías limpias permitirá descarbonizar al planeta. Escuchamos que poseemos ventajas comparativas para generar energía solar y eólica, principalmente en el norte de nuestro país. La Corfo ha estado trabajando con los ministerios de Energía y Bienes Nacionales para impulsar iniciativas que permitan el desarrollo a escala industrial de hidrógeno verde y sus derivados, lo cual me parece auspicioso. Sin embargo, a inicios del 2010 también escuchamos nuestras ventajas comparativas y únicas para producir litio. El llamado oro blanco. El Estado hizo estudios para idear la mejor manera de otorgar Contratos Especiales de Operación de Litio (CEOL), que permitieran aumentar la producción. Incluso, el 2016, bajo el Gobierno de la Presidenta Bachelet, se elaboró la \\x93Política Nacional del Litio\\x94 y en marzo del 2018 se otorgó el primer CEOL a Codelco para que, en un proyecto junto a privados, comenzara a producir litio en el Salar de Maricunga, el segundo más importante después del de Atacama. Contrato que, por cierto, aún no se materializa por seguir en etapas de estudios. En esta industria también la Corfo ha tenido un rol activo para intentar elevar la producción del mineral no metálico, sin embargo, a la luz del último estudio de Cochilco (2020), vemos que Chile no solo perdió el primer lugar de la producción mundial, siendo superado ampliamente por Australia, si no que hoy el país se ve amenazado con perder el segundo lugar con Argentina. Esperemos que con el Hidrógeno Verde no dejemos pasar la oportunidad y que la institucionalidad que se dará a esta industria sea adecuada, eficaz y oportuna, de tal manera de que no ocurra lo mismo que con el Litio, situación que ciertamente aún es tiempo de revertir. Los salares de Atacama y Maricunga siguen teniendo ventajas comparativas para producir carbonato e hidróxido de litio y, si se generan políticas públicas adecuadas, tal vez podamos recuperar el primer lugar perdido en la producción mundial de Litio. *Director Escuela de Auditoría y Control de Gestión, Universidad Santo Tomás Por favor, inicia sesión en La Tercera para acceder a los comentarios.', 'Ministro y diputados abordan desafíos del hidrógeno verde en nuestra región – Eliana Ximena Oyarzún Nancuante El desarrollo del hidrógeno verde en Magallanes, el desistido proyecto de parque eólico y los desafíos que el gobierno tiene para incentivar esta industria, fueron parte de los temas que se abordaron en la comisión de Energía y Minería de la Cámara de Diputados, instancia a la cual asistieron como invitados el ministro Diego Pardow y los representantes de la Umag, Claudio Gómez y Humberto Vidal. El titular de Energía expuso sobre los avances que el gobierno viene desarrollando en materia energética, dentro de lo cual reconoció que respecto de implementación de hidrógeno verde “la situación muestra algunas deficiencias y la tarea es abordar aquello en la Ley de Presupuestos”. Agregó que lo que se necesita es avanzar en líneas de base y planificación del territorio, razón por la cual en el presupuesto 2023 de su ministerio se pretende implementar planes estratégicos de energía en regiones, como en Magallanes y Los Lagos, entendiendo que en Antofagasta hay un trabajo ya realizado por tratarse de un polo energético importante. Durante su intervención, Pardow se refirió también al retiro del estudio de impacto ambiental del Parque Eólico Faro del Sur: “Esto no es un retiro definitivo, porque más allá de que hemos tenido contacto con las empresas involucradas y con los distintos actores involucrados aquí,\\xa0tengo la impresión que este proyecto se va a volver a someter a la evaluación ambiental. Esto más bien fue un retiro para fortalecer la presentación del proyecto”. Universidad de Magallanes Por su parte el decano de la Facultad de Ingeniería de la Umag, Claudio Gómez, y el director del Centro de Estudios de Recursos Energéticos, Humberto Vidal, expusieron acerca de cómo se visualiza la llegada de la industria de Hidrógeno Verde a Magallanes y el rol que juega su universidad dentro de este futuro escenario. Expresaron que el primer desafío es cómo lograr un desarrollo con equilibrio, albergando las grandes inversiones sin sacrificar el bienestar de la región. En esto, resaltaron, la Universidad de Magallanes debe cumplir un rol fundamental aportando herramientas para que esto se desarrolle de la mejor manera. Plantearon que la asesoría a través del conocimiento que la casa de estudios tiene a través de un trabajo de décadas y de una historia estrechamente ligada al viento es un valor agregado, con elementos como estudios de prospección y una base de datos, además de observar pequeños parques eólicos que por eficiencia superan a otros muy superiores en tamaño. Agregaron que dentro de esa realidad claramente había un factor decidor: el desarrollo adolecía de tener grandes clientes, “y esos grandes clientes hoy están llegando para beneficio de la región. Proyectos de Alemania, Francia e Inglaterra, clientes que hoy quieren lo mismo, que buscan diferentes productos dentro de un\\xa0 mercado atractivo y bajo condiciones técnicas que están. Y nosotros como universidad queremos acompañar este desarrollo, velando para que eso se produzca con el equilibrio que todos queremos”.']\n"
     ]
    }
   ],
   "source": [
    "# Extraer el texto de los documentos devueltos\n",
    "documents = results['documents']  # Asegúrate de revisar cómo es la estructura real de los resultados\n",
    "\n",
    "# Vamos a verificar el contenido de 'documents' para asegurarnos de su estructura\n",
    "print(documents)\n",
    "\n",
    "# Si es una lista de listas, extraemos los textos directamente\n",
    "texts = [doc for sublist in documents for doc in sublist]  # Aplanamos la lista en caso de ser anidada\n",
    "\n",
    "# Imprimimos algunos documentos para revisar que todo esté correcto\n",
    "print(texts[:5])"
   ]
  },
  {
   "cell_type": "code",
   "execution_count": 8,
   "id": "6e9b9c99-a9f6-4aa4-9390-a0ee31da0ed9",
   "metadata": {},
   "outputs": [],
   "source": [
    "# Concatenamos los textos extraídos en un solo string\n",
    "text = \"\\n\".join(texts[:5])  # Tomamos solo los primeros 5 para simplificar"
   ]
  },
  {
   "cell_type": "code",
   "execution_count": 9,
   "id": "0ed314ab-0052-4ec7-b08d-29611cde0edb",
   "metadata": {},
   "outputs": [
    {
     "data": {
      "text/plain": [
       "'ENAP EXPONE AVANCES DE PROYECTOS DE HIDRÓGENO VERDE (empty)\\nHidrógeno verde: Países Bajos desea aportar en la infraestructura portuaria y ayudar al desarrollo de la cadena de valor – Eliana Ximena Oyarzún Nancuante “Hace algunos años, hemos designado la transición energética como prioridad nacional, ligada a nuestro deber y cumplimiento del Acuerdo de París y la reducción de emisiones y con el hecho de que está cada vez más claro que es necesario diversificar las fuentes de energía”. Así lo planteó la embajadora de los Países Bajos, Carmen Gonsalves, al momento de conversar sobre las potencialidades que tiene para tales fines el desarrollo de e-combustibles y el interés de su gobierno y un conjunto importante de empresas privadas y semiestatales en poder invertir en nuestra región para apoyar el desarrollo de la industria del hidrógeno verde en Magallanes. De hecho, esta noche llegará a Punta Arenas la tercera misión público-privada de los Países Bajos para auscultar el estatus del desarrollo del H2V y, particularmente, las instalaciones portuarias existentes, tanto de la Empresa Portuaria Austral como de Enap. Representantes de las\\xa0 compañías portuarias que manejan los tres puertos neerlandeses más importantes (Rotterdam, Amsterdam y North Sea Port) son parte de esta comitiva. Aunque el discurso es optimista, la embajadora no cierra los ojos frente a posibles óbices y, en sus palabras, “complejidades” que el despliegue de este negocio puede tener en nuestra zona. “Cada región tiene sus desafíos. En Magallanes, la gran ventaja comparativa es la cantidad de vientos, pero, por otro lado, hay complejidades. La complejidad es que en Magallanes hay una biodiversidad abundante y prístina que hay que proteger y, entonces, la implementación de todos los planes de producción de hidrógeno verde tiene que apuntar a que se hagan de la forma más eficiente y efectiva posible con menos impacto posible”, apuntó. La embajadora Gonsalves hizo ver que no se puede dejar de lado el impacto socioeconómico que esta industria tendrá en la zona, el cual será muy grande. “Ello se debe anticipar muy bien para preparar y evitar que no deriven en conflictos sociales y, muy por el contrario, que habrá el mayor beneficio también para la comunidad y la economía local. Entonces, muchos proyectos de capacitación serán parte del desarrollo de la economía de hidrógeno verde en Magallanes. En este sentido, empresas e instituciones neerlandesas podrán contribuir”, señaló. “Nuestros puertos están listos para recibir las exportaciones chilenas de hidrógeno verde” La misión de los Países Bajos llega entendiendo que Chile está realizando esfuerzos para desarrollar y definir una infraestructura en torno a la industria del hidrógeno verde que pueda crear una cadena de valor. El grupo público-privado está atento a las oportunidades abiertas por la necesidad de\\xa0 construir caminos, diseñar y construir terminales, crear una red de oleoductos y\\xa0 levantar instalaciones para almacenar, así como definir y generar infraestructuras eléctricas, plantas desalinizadoras de agua y otras para el tratamiento del aire y electrolizadores. Ven con interés que los puertos deben transformarse o construirse para recibir los equipos necesarios para producir hidrógeno verde y sus derivados, que luego tienen que modificarse para la exportación. También evalúan el desarrollo del capital humano, dada el ingente número de empleados que será necesario para desarrollar todas las etapas de esta industria en Magallanes. El gobierno y las empresas neerlandesas ven una gran oportunidad en la enorme demanda que habrá por información, productos, servicios y experiencia, creyendo que gran parte de tales requerimientos puede ser ofrecido por o a través de organizaciones. La embajadora destacó particularmente el interés de las empresas portuarias neerlandesas por ser parte de la transformación y/o construcción de los terminales adecuados para que desde Magallanes se pueda exportar esta producción. Igualmente, hizo ver que Rotterdam, Amsterdam y North Sea Port son megapuertos claves a la hora de pensar en cerrar el ciclo productivo y distribuir los e-combustibles. “Los puertos en los Países Bajos están listos y preparados al momento que Chile decida exportar. El puerto de Rotterdam es uno de los puertos de entrada de la Unión Europea en cuanto a la inversión de energía y para el noroeste de Europa y todo el polo industrial, que incluye Alemania”, indicó. En esta misión vendrán representantes de 13 a 15 empresas y organismos neerlandeses, como las referidas compañías portuarias, distribuidoras y abastecedoras de gas natural y derivados, productoras de ductos flexibles para transportar gas y otras especializadas en la construcción de terminales e infraestructura diversas, así como consultores de ingeniería. Para la diplomática, es esencial también resaltar que las empresas de Países Bajos “tienen mucho que ofrecer en cuanto al desarrollo de toda la cadena de valor del hidrógeno verde en la economía de Chile, sobre todo desde el momento que el hidrógeno esté producido hasta el transporte en un buque”, indicó. Agregó que las empresas de su país pueden realizar un aporte crucial en todo lo relativo al almacenamiento y toda la infraestructura portuaria que se necesita para transportar el amoniaco y que éste llegue al resto del mundo. Intensa agenda La misión de Países Bajos llegará esta mañana a Santiago, donde Juan Pablo Purcell, de InvestChile, hablará sobre las oportunidades de negocios; Marcos Kulka y Ricardo Rodríguez, de H2Chile, entregarán una visión y estado del desarrollo de esta industria en el país; y Eva Verschoor, a nombre de los socios de Rotterdam, hablará sobre el impacto en el Pib y la logística. La ministra de Energía, Loreta Lancellotti, se referirá a la cooperación. Cerca de la medianoche, el grupo llegará a Punta Arenas, donde tendrá dos días de intenso programa que considera tanto reuniones con autoridades locales y seminarios, como la visita a las instalaciones de Cabo Negro de Enap y la planta de Hif, así como los terminales Prat y Mardones de la Epa. El martes por la tarde volverán a Santiago, donde el miércoles y el jueves participarán en la 5ª Edición de la Cumbre del Hidrógeno Verde de Chile, que reunirá a más de 400 representantes de organizaciones del rubro.\\nFeria permitirá conocer detalles del hidrógeno verde – Eliana Ximena Oyarzún Nancuante Con el objetivo de acercar la industria a la comunidad y educar con respecto a todos los aspectos involucrados, se realizará en Punta Arenas la primera Feria de Hidrógeno Verde. La iniciativa en conjunto del gobierno regional y la Corfo, apunta a que los habitantes de la región entiendan el proceso productivo del hidrógeno verde, así como también el rol que tendrán los servicios públicos, las empresas locales y la academia ante un eventual encadenamiento de esta industria. Su realización está programada para el viernes 12 y sábado 13 de mayo, con un formato novedoso y en un espacio donde se podrá disfrutar de una ubicación privilegiada a orillas del Estrecho de Magallanes, en las dependencia de la Epa en el muelle Arturo Prat. Entre los atractivos se podrá encontrar la “Ruta del hidrógeno”, que permite conocer y entender de manera didáctica cómo es el proceso de producción, en un esfuerzo conjunto entre las empresas desarrolladoras HIF Global, Teg Chile, HNH de Austria Energy y H2 Magallanes de Total Eren. Además, se dispondrán de una veintena de stand con empresas locales, servicios públicos y ofertas académicas. Y durante los dos días habrá interesantes charlas para estudiantes, público en general y profesionales que deseen conocer más sobre está naciente industria.\\nHidrógeno verde, recordemos el litio Según expertos, Chile tiene una posición privilegiada para ser en uno de los principales productores de hidrógeno verde del mundo, la energía del futuro, dado que al ser en base a energías limpias permitirá descarbonizar al planeta. Escuchamos que poseemos ventajas comparativas para generar energía solar y eólica, principalmente en el norte de nuestro país. La Corfo ha estado trabajando con los ministerios de Energía y Bienes Nacionales para impulsar iniciativas que permitan el desarrollo a escala industrial de hidrógeno verde y sus derivados, lo cual me parece auspicioso. Sin embargo, a inicios del 2010 también escuchamos nuestras ventajas comparativas y únicas para producir litio. El llamado oro blanco. El Estado hizo estudios para idear la mejor manera de otorgar Contratos Especiales de Operación de Litio (CEOL), que permitieran aumentar la producción. Incluso, el 2016, bajo el Gobierno de la Presidenta Bachelet, se elaboró la \\x93Política Nacional del Litio\\x94 y en marzo del 2018 se otorgó el primer CEOL a Codelco para que, en un proyecto junto a privados, comenzara a producir litio en el Salar de Maricunga, el segundo más importante después del de Atacama. Contrato que, por cierto, aún no se materializa por seguir en etapas de estudios. En esta industria también la Corfo ha tenido un rol activo para intentar elevar la producción del mineral no metálico, sin embargo, a la luz del último estudio de Cochilco (2020), vemos que Chile no solo perdió el primer lugar de la producción mundial, siendo superado ampliamente por Australia, si no que hoy el país se ve amenazado con perder el segundo lugar con Argentina. Esperemos que con el Hidrógeno Verde no dejemos pasar la oportunidad y que la institucionalidad que se dará a esta industria sea adecuada, eficaz y oportuna, de tal manera de que no ocurra lo mismo que con el Litio, situación que ciertamente aún es tiempo de revertir. Los salares de Atacama y Maricunga siguen teniendo ventajas comparativas para producir carbonato e hidróxido de litio y, si se generan políticas públicas adecuadas, tal vez podamos recuperar el primer lugar perdido en la producción mundial de Litio. *Director Escuela de Auditoría y Control de Gestión, Universidad Santo Tomás Por favor, inicia sesión en La Tercera para acceder a los comentarios.\\nMinistro y diputados abordan desafíos del hidrógeno verde en nuestra región – Eliana Ximena Oyarzún Nancuante El desarrollo del hidrógeno verde en Magallanes, el desistido proyecto de parque eólico y los desafíos que el gobierno tiene para incentivar esta industria, fueron parte de los temas que se abordaron en la comisión de Energía y Minería de la Cámara de Diputados, instancia a la cual asistieron como invitados el ministro Diego Pardow y los representantes de la Umag, Claudio Gómez y Humberto Vidal. El titular de Energía expuso sobre los avances que el gobierno viene desarrollando en materia energética, dentro de lo cual reconoció que respecto de implementación de hidrógeno verde “la situación muestra algunas deficiencias y la tarea es abordar aquello en la Ley de Presupuestos”. Agregó que lo que se necesita es avanzar en líneas de base y planificación del territorio, razón por la cual en el presupuesto 2023 de su ministerio se pretende implementar planes estratégicos de energía en regiones, como en Magallanes y Los Lagos, entendiendo que en Antofagasta hay un trabajo ya realizado por tratarse de un polo energético importante. Durante su intervención, Pardow se refirió también al retiro del estudio de impacto ambiental del Parque Eólico Faro del Sur: “Esto no es un retiro definitivo, porque más allá de que hemos tenido contacto con las empresas involucradas y con los distintos actores involucrados aquí,\\xa0tengo la impresión que este proyecto se va a volver a someter a la evaluación ambiental. Esto más bien fue un retiro para fortalecer la presentación del proyecto”. Universidad de Magallanes Por su parte el decano de la Facultad de Ingeniería de la Umag, Claudio Gómez, y el director del Centro de Estudios de Recursos Energéticos, Humberto Vidal, expusieron acerca de cómo se visualiza la llegada de la industria de Hidrógeno Verde a Magallanes y el rol que juega su universidad dentro de este futuro escenario. Expresaron que el primer desafío es cómo lograr un desarrollo con equilibrio, albergando las grandes inversiones sin sacrificar el bienestar de la región. En esto, resaltaron, la Universidad de Magallanes debe cumplir un rol fundamental aportando herramientas para que esto se desarrolle de la mejor manera. Plantearon que la asesoría a través del conocimiento que la casa de estudios tiene a través de un trabajo de décadas y de una historia estrechamente ligada al viento es un valor agregado, con elementos como estudios de prospección y una base de datos, además de observar pequeños parques eólicos que por eficiencia superan a otros muy superiores en tamaño. Agregaron que dentro de esa realidad claramente había un factor decidor: el desarrollo adolecía de tener grandes clientes, “y esos grandes clientes hoy están llegando para beneficio de la región. Proyectos de Alemania, Francia e Inglaterra, clientes que hoy quieren lo mismo, que buscan diferentes productos dentro de un\\xa0 mercado atractivo y bajo condiciones técnicas que están. Y nosotros como universidad queremos acompañar este desarrollo, velando para que eso se produzca con el equilibrio que todos queremos”.'"
      ]
     },
     "execution_count": 9,
     "metadata": {},
     "output_type": "execute_result"
    }
   ],
   "source": [
    "text"
   ]
  },
  {
   "cell_type": "code",
   "execution_count": null,
   "id": "8a17bd3e-f82c-4e35-b4b6-92c9a102e1d7",
   "metadata": {},
   "outputs": [],
   "source": [
    "from openai import OpenAI\n",
    "# Configuramos el cliente de OpenAI con la clave API\n",
    "chatgpt = OpenAI(\n",
    "    api_key=\"api-api-NM5yQ9AyrOsYL2x4aR9M9qumCdzGEr01xsBFhPCR-Bn4h5M-rRD8-R6zZNUR3YA\"\n",
    "    \n",
    "    #api_key=\"apiapi-v_HX4u44Jdu_haB_bq7-1mwnT-DOoYA\"\n",
    ")\n"
   ]
  },
  {
   "cell_type": "code",
   "execution_count": 11,
   "id": "c245b05d-bc20-4352-abf2-e19a22a16f3d",
   "metadata": {},
   "outputs": [
    {
     "ename": "AuthenticationError",
     "evalue": "Error code: 401 - {'error': {'message': 'Incorrect API key provided: sk-proj-********************************************************************************************************************************************************R3YA. You can find your API key at https://platform.openai.com/account/api-keys.', 'type': 'invalid_request_error', 'param': None, 'code': 'invalid_api_key'}}",
     "output_type": "error",
     "traceback": [
      "\u001b[0;31m---------------------------------------------------------------------------\u001b[0m",
      "\u001b[0;31mAuthenticationError\u001b[0m                       Traceback (most recent call last)",
      "Cell \u001b[0;32mIn[11], line 8\u001b[0m\n\u001b[1;32m      5\u001b[0m prompt \u001b[38;5;241m=\u001b[39m \u001b[38;5;124mf\u001b[39m\u001b[38;5;124m\"\u001b[39m\u001b[38;5;124mA partir de los siguientes documentos, responde a la pregunta: \u001b[39m\u001b[38;5;132;01m{\u001b[39;00mquestion\u001b[38;5;132;01m}\u001b[39;00m\u001b[38;5;124m. \u001b[39m\u001b[38;5;130;01m\\n\u001b[39;00m\u001b[38;5;130;01m\\n\u001b[39;00m\u001b[38;5;132;01m{\u001b[39;00mtext\u001b[38;5;132;01m}\u001b[39;00m\u001b[38;5;124m\"\u001b[39m\n\u001b[1;32m      7\u001b[0m \u001b[38;5;66;03m# Hacemos la consulta a ChatGPT\u001b[39;00m\n\u001b[0;32m----> 8\u001b[0m chat_completion \u001b[38;5;241m=\u001b[39m \u001b[43mchatgpt\u001b[49m\u001b[38;5;241;43m.\u001b[39;49m\u001b[43mchat\u001b[49m\u001b[38;5;241;43m.\u001b[39;49m\u001b[43mcompletions\u001b[49m\u001b[38;5;241;43m.\u001b[39;49m\u001b[43mcreate\u001b[49m\u001b[43m(\u001b[49m\n\u001b[1;32m      9\u001b[0m \u001b[43m    \u001b[49m\u001b[43mmessages\u001b[49m\u001b[38;5;241;43m=\u001b[39;49m\u001b[43m[\u001b[49m\n\u001b[1;32m     10\u001b[0m \u001b[43m        \u001b[49m\u001b[43m{\u001b[49m\n\u001b[1;32m     11\u001b[0m \u001b[43m            \u001b[49m\u001b[38;5;124;43m\"\u001b[39;49m\u001b[38;5;124;43mrole\u001b[39;49m\u001b[38;5;124;43m\"\u001b[39;49m\u001b[43m:\u001b[49m\u001b[43m \u001b[49m\u001b[38;5;124;43m\"\u001b[39;49m\u001b[38;5;124;43muser\u001b[39;49m\u001b[38;5;124;43m\"\u001b[39;49m\u001b[43m,\u001b[49m\n\u001b[1;32m     12\u001b[0m \n\u001b[1;32m     13\u001b[0m \n\u001b[1;32m     14\u001b[0m \u001b[43m            \u001b[49m\u001b[38;5;124;43m\"\u001b[39;49m\u001b[38;5;124;43mcontent\u001b[39;49m\u001b[38;5;124;43m\"\u001b[39;49m\u001b[43m:\u001b[49m\u001b[43m \u001b[49m\u001b[43mprompt\u001b[49m\u001b[43m,\u001b[49m\u001b[43m  \u001b[49m\u001b[38;5;66;43;03m# Aquí enviamos el prompt modificado\u001b[39;49;00m\n\u001b[1;32m     15\u001b[0m \u001b[43m        \u001b[49m\u001b[43m}\u001b[49m\n\u001b[1;32m     16\u001b[0m \u001b[43m    \u001b[49m\u001b[43m]\u001b[49m\u001b[43m,\u001b[49m\n\u001b[1;32m     17\u001b[0m \u001b[43m    \u001b[49m\u001b[43mmodel\u001b[49m\u001b[38;5;241;43m=\u001b[39;49m\u001b[38;5;124;43m\"\u001b[39;49m\u001b[38;5;124;43mgpt-3.5-turbo\u001b[39;49m\u001b[38;5;124;43m\"\u001b[39;49m\u001b[43m,\u001b[49m\u001b[43m  \u001b[49m\u001b[38;5;66;43;03m# Modelo que quieres usar\u001b[39;49;00m\n\u001b[1;32m     18\u001b[0m \u001b[43m)\u001b[49m\n",
      "File \u001b[0;32m~/miniconda3/envs/leng/lib/python3.13/site-packages/openai/_utils/_utils.py:275\u001b[0m, in \u001b[0;36mrequired_args.<locals>.inner.<locals>.wrapper\u001b[0;34m(*args, **kwargs)\u001b[0m\n\u001b[1;32m    273\u001b[0m             msg \u001b[38;5;241m=\u001b[39m \u001b[38;5;124mf\u001b[39m\u001b[38;5;124m\"\u001b[39m\u001b[38;5;124mMissing required argument: \u001b[39m\u001b[38;5;132;01m{\u001b[39;00mquote(missing[\u001b[38;5;241m0\u001b[39m])\u001b[38;5;132;01m}\u001b[39;00m\u001b[38;5;124m\"\u001b[39m\n\u001b[1;32m    274\u001b[0m     \u001b[38;5;28;01mraise\u001b[39;00m \u001b[38;5;167;01mTypeError\u001b[39;00m(msg)\n\u001b[0;32m--> 275\u001b[0m \u001b[38;5;28;01mreturn\u001b[39;00m \u001b[43mfunc\u001b[49m\u001b[43m(\u001b[49m\u001b[38;5;241;43m*\u001b[39;49m\u001b[43margs\u001b[49m\u001b[43m,\u001b[49m\u001b[43m \u001b[49m\u001b[38;5;241;43m*\u001b[39;49m\u001b[38;5;241;43m*\u001b[39;49m\u001b[43mkwargs\u001b[49m\u001b[43m)\u001b[49m\n",
      "File \u001b[0;32m~/miniconda3/envs/leng/lib/python3.13/site-packages/openai/resources/chat/completions.py:829\u001b[0m, in \u001b[0;36mCompletions.create\u001b[0;34m(self, messages, model, audio, frequency_penalty, function_call, functions, logit_bias, logprobs, max_completion_tokens, max_tokens, metadata, modalities, n, parallel_tool_calls, prediction, presence_penalty, response_format, seed, service_tier, stop, store, stream, stream_options, temperature, tool_choice, tools, top_logprobs, top_p, user, extra_headers, extra_query, extra_body, timeout)\u001b[0m\n\u001b[1;32m    788\u001b[0m \u001b[38;5;129m@required_args\u001b[39m([\u001b[38;5;124m\"\u001b[39m\u001b[38;5;124mmessages\u001b[39m\u001b[38;5;124m\"\u001b[39m, \u001b[38;5;124m\"\u001b[39m\u001b[38;5;124mmodel\u001b[39m\u001b[38;5;124m\"\u001b[39m], [\u001b[38;5;124m\"\u001b[39m\u001b[38;5;124mmessages\u001b[39m\u001b[38;5;124m\"\u001b[39m, \u001b[38;5;124m\"\u001b[39m\u001b[38;5;124mmodel\u001b[39m\u001b[38;5;124m\"\u001b[39m, \u001b[38;5;124m\"\u001b[39m\u001b[38;5;124mstream\u001b[39m\u001b[38;5;124m\"\u001b[39m])\n\u001b[1;32m    789\u001b[0m \u001b[38;5;28;01mdef\u001b[39;00m \u001b[38;5;21mcreate\u001b[39m(\n\u001b[1;32m    790\u001b[0m     \u001b[38;5;28mself\u001b[39m,\n\u001b[0;32m   (...)\u001b[0m\n\u001b[1;32m    826\u001b[0m     timeout: \u001b[38;5;28mfloat\u001b[39m \u001b[38;5;241m|\u001b[39m httpx\u001b[38;5;241m.\u001b[39mTimeout \u001b[38;5;241m|\u001b[39m \u001b[38;5;28;01mNone\u001b[39;00m \u001b[38;5;241m|\u001b[39m NotGiven \u001b[38;5;241m=\u001b[39m NOT_GIVEN,\n\u001b[1;32m    827\u001b[0m ) \u001b[38;5;241m-\u001b[39m\u001b[38;5;241m>\u001b[39m ChatCompletion \u001b[38;5;241m|\u001b[39m Stream[ChatCompletionChunk]:\n\u001b[1;32m    828\u001b[0m     validate_response_format(response_format)\n\u001b[0;32m--> 829\u001b[0m     \u001b[38;5;28;01mreturn\u001b[39;00m \u001b[38;5;28;43mself\u001b[39;49m\u001b[38;5;241;43m.\u001b[39;49m\u001b[43m_post\u001b[49m\u001b[43m(\u001b[49m\n\u001b[1;32m    830\u001b[0m \u001b[43m        \u001b[49m\u001b[38;5;124;43m\"\u001b[39;49m\u001b[38;5;124;43m/chat/completions\u001b[39;49m\u001b[38;5;124;43m\"\u001b[39;49m\u001b[43m,\u001b[49m\n\u001b[1;32m    831\u001b[0m \u001b[43m        \u001b[49m\u001b[43mbody\u001b[49m\u001b[38;5;241;43m=\u001b[39;49m\u001b[43mmaybe_transform\u001b[49m\u001b[43m(\u001b[49m\n\u001b[1;32m    832\u001b[0m \u001b[43m            \u001b[49m\u001b[43m{\u001b[49m\n\u001b[1;32m    833\u001b[0m \u001b[43m                \u001b[49m\u001b[38;5;124;43m\"\u001b[39;49m\u001b[38;5;124;43mmessages\u001b[39;49m\u001b[38;5;124;43m\"\u001b[39;49m\u001b[43m:\u001b[49m\u001b[43m \u001b[49m\u001b[43mmessages\u001b[49m\u001b[43m,\u001b[49m\n\u001b[1;32m    834\u001b[0m \u001b[43m                \u001b[49m\u001b[38;5;124;43m\"\u001b[39;49m\u001b[38;5;124;43mmodel\u001b[39;49m\u001b[38;5;124;43m\"\u001b[39;49m\u001b[43m:\u001b[49m\u001b[43m \u001b[49m\u001b[43mmodel\u001b[49m\u001b[43m,\u001b[49m\n\u001b[1;32m    835\u001b[0m \u001b[43m                \u001b[49m\u001b[38;5;124;43m\"\u001b[39;49m\u001b[38;5;124;43maudio\u001b[39;49m\u001b[38;5;124;43m\"\u001b[39;49m\u001b[43m:\u001b[49m\u001b[43m \u001b[49m\u001b[43maudio\u001b[49m\u001b[43m,\u001b[49m\n\u001b[1;32m    836\u001b[0m \u001b[43m                \u001b[49m\u001b[38;5;124;43m\"\u001b[39;49m\u001b[38;5;124;43mfrequency_penalty\u001b[39;49m\u001b[38;5;124;43m\"\u001b[39;49m\u001b[43m:\u001b[49m\u001b[43m \u001b[49m\u001b[43mfrequency_penalty\u001b[49m\u001b[43m,\u001b[49m\n\u001b[1;32m    837\u001b[0m \u001b[43m                \u001b[49m\u001b[38;5;124;43m\"\u001b[39;49m\u001b[38;5;124;43mfunction_call\u001b[39;49m\u001b[38;5;124;43m\"\u001b[39;49m\u001b[43m:\u001b[49m\u001b[43m \u001b[49m\u001b[43mfunction_call\u001b[49m\u001b[43m,\u001b[49m\n\u001b[1;32m    838\u001b[0m \u001b[43m                \u001b[49m\u001b[38;5;124;43m\"\u001b[39;49m\u001b[38;5;124;43mfunctions\u001b[39;49m\u001b[38;5;124;43m\"\u001b[39;49m\u001b[43m:\u001b[49m\u001b[43m \u001b[49m\u001b[43mfunctions\u001b[49m\u001b[43m,\u001b[49m\n\u001b[1;32m    839\u001b[0m \u001b[43m                \u001b[49m\u001b[38;5;124;43m\"\u001b[39;49m\u001b[38;5;124;43mlogit_bias\u001b[39;49m\u001b[38;5;124;43m\"\u001b[39;49m\u001b[43m:\u001b[49m\u001b[43m \u001b[49m\u001b[43mlogit_bias\u001b[49m\u001b[43m,\u001b[49m\n\u001b[1;32m    840\u001b[0m \u001b[43m                \u001b[49m\u001b[38;5;124;43m\"\u001b[39;49m\u001b[38;5;124;43mlogprobs\u001b[39;49m\u001b[38;5;124;43m\"\u001b[39;49m\u001b[43m:\u001b[49m\u001b[43m \u001b[49m\u001b[43mlogprobs\u001b[49m\u001b[43m,\u001b[49m\n\u001b[1;32m    841\u001b[0m \u001b[43m                \u001b[49m\u001b[38;5;124;43m\"\u001b[39;49m\u001b[38;5;124;43mmax_completion_tokens\u001b[39;49m\u001b[38;5;124;43m\"\u001b[39;49m\u001b[43m:\u001b[49m\u001b[43m \u001b[49m\u001b[43mmax_completion_tokens\u001b[49m\u001b[43m,\u001b[49m\n\u001b[1;32m    842\u001b[0m \u001b[43m                \u001b[49m\u001b[38;5;124;43m\"\u001b[39;49m\u001b[38;5;124;43mmax_tokens\u001b[39;49m\u001b[38;5;124;43m\"\u001b[39;49m\u001b[43m:\u001b[49m\u001b[43m \u001b[49m\u001b[43mmax_tokens\u001b[49m\u001b[43m,\u001b[49m\n\u001b[1;32m    843\u001b[0m \u001b[43m                \u001b[49m\u001b[38;5;124;43m\"\u001b[39;49m\u001b[38;5;124;43mmetadata\u001b[39;49m\u001b[38;5;124;43m\"\u001b[39;49m\u001b[43m:\u001b[49m\u001b[43m \u001b[49m\u001b[43mmetadata\u001b[49m\u001b[43m,\u001b[49m\n\u001b[1;32m    844\u001b[0m \u001b[43m                \u001b[49m\u001b[38;5;124;43m\"\u001b[39;49m\u001b[38;5;124;43mmodalities\u001b[39;49m\u001b[38;5;124;43m\"\u001b[39;49m\u001b[43m:\u001b[49m\u001b[43m \u001b[49m\u001b[43mmodalities\u001b[49m\u001b[43m,\u001b[49m\n\u001b[1;32m    845\u001b[0m \u001b[43m                \u001b[49m\u001b[38;5;124;43m\"\u001b[39;49m\u001b[38;5;124;43mn\u001b[39;49m\u001b[38;5;124;43m\"\u001b[39;49m\u001b[43m:\u001b[49m\u001b[43m \u001b[49m\u001b[43mn\u001b[49m\u001b[43m,\u001b[49m\n\u001b[1;32m    846\u001b[0m \u001b[43m                \u001b[49m\u001b[38;5;124;43m\"\u001b[39;49m\u001b[38;5;124;43mparallel_tool_calls\u001b[39;49m\u001b[38;5;124;43m\"\u001b[39;49m\u001b[43m:\u001b[49m\u001b[43m \u001b[49m\u001b[43mparallel_tool_calls\u001b[49m\u001b[43m,\u001b[49m\n\u001b[1;32m    847\u001b[0m \u001b[43m                \u001b[49m\u001b[38;5;124;43m\"\u001b[39;49m\u001b[38;5;124;43mprediction\u001b[39;49m\u001b[38;5;124;43m\"\u001b[39;49m\u001b[43m:\u001b[49m\u001b[43m \u001b[49m\u001b[43mprediction\u001b[49m\u001b[43m,\u001b[49m\n\u001b[1;32m    848\u001b[0m \u001b[43m                \u001b[49m\u001b[38;5;124;43m\"\u001b[39;49m\u001b[38;5;124;43mpresence_penalty\u001b[39;49m\u001b[38;5;124;43m\"\u001b[39;49m\u001b[43m:\u001b[49m\u001b[43m \u001b[49m\u001b[43mpresence_penalty\u001b[49m\u001b[43m,\u001b[49m\n\u001b[1;32m    849\u001b[0m \u001b[43m                \u001b[49m\u001b[38;5;124;43m\"\u001b[39;49m\u001b[38;5;124;43mresponse_format\u001b[39;49m\u001b[38;5;124;43m\"\u001b[39;49m\u001b[43m:\u001b[49m\u001b[43m \u001b[49m\u001b[43mresponse_format\u001b[49m\u001b[43m,\u001b[49m\n\u001b[1;32m    850\u001b[0m \u001b[43m                \u001b[49m\u001b[38;5;124;43m\"\u001b[39;49m\u001b[38;5;124;43mseed\u001b[39;49m\u001b[38;5;124;43m\"\u001b[39;49m\u001b[43m:\u001b[49m\u001b[43m \u001b[49m\u001b[43mseed\u001b[49m\u001b[43m,\u001b[49m\n\u001b[1;32m    851\u001b[0m \u001b[43m                \u001b[49m\u001b[38;5;124;43m\"\u001b[39;49m\u001b[38;5;124;43mservice_tier\u001b[39;49m\u001b[38;5;124;43m\"\u001b[39;49m\u001b[43m:\u001b[49m\u001b[43m \u001b[49m\u001b[43mservice_tier\u001b[49m\u001b[43m,\u001b[49m\n\u001b[1;32m    852\u001b[0m \u001b[43m                \u001b[49m\u001b[38;5;124;43m\"\u001b[39;49m\u001b[38;5;124;43mstop\u001b[39;49m\u001b[38;5;124;43m\"\u001b[39;49m\u001b[43m:\u001b[49m\u001b[43m \u001b[49m\u001b[43mstop\u001b[49m\u001b[43m,\u001b[49m\n\u001b[1;32m    853\u001b[0m \u001b[43m                \u001b[49m\u001b[38;5;124;43m\"\u001b[39;49m\u001b[38;5;124;43mstore\u001b[39;49m\u001b[38;5;124;43m\"\u001b[39;49m\u001b[43m:\u001b[49m\u001b[43m \u001b[49m\u001b[43mstore\u001b[49m\u001b[43m,\u001b[49m\n\u001b[1;32m    854\u001b[0m \u001b[43m                \u001b[49m\u001b[38;5;124;43m\"\u001b[39;49m\u001b[38;5;124;43mstream\u001b[39;49m\u001b[38;5;124;43m\"\u001b[39;49m\u001b[43m:\u001b[49m\u001b[43m \u001b[49m\u001b[43mstream\u001b[49m\u001b[43m,\u001b[49m\n\u001b[1;32m    855\u001b[0m \u001b[43m                \u001b[49m\u001b[38;5;124;43m\"\u001b[39;49m\u001b[38;5;124;43mstream_options\u001b[39;49m\u001b[38;5;124;43m\"\u001b[39;49m\u001b[43m:\u001b[49m\u001b[43m \u001b[49m\u001b[43mstream_options\u001b[49m\u001b[43m,\u001b[49m\n\u001b[1;32m    856\u001b[0m \u001b[43m                \u001b[49m\u001b[38;5;124;43m\"\u001b[39;49m\u001b[38;5;124;43mtemperature\u001b[39;49m\u001b[38;5;124;43m\"\u001b[39;49m\u001b[43m:\u001b[49m\u001b[43m \u001b[49m\u001b[43mtemperature\u001b[49m\u001b[43m,\u001b[49m\n\u001b[1;32m    857\u001b[0m \u001b[43m                \u001b[49m\u001b[38;5;124;43m\"\u001b[39;49m\u001b[38;5;124;43mtool_choice\u001b[39;49m\u001b[38;5;124;43m\"\u001b[39;49m\u001b[43m:\u001b[49m\u001b[43m \u001b[49m\u001b[43mtool_choice\u001b[49m\u001b[43m,\u001b[49m\n\u001b[1;32m    858\u001b[0m \u001b[43m                \u001b[49m\u001b[38;5;124;43m\"\u001b[39;49m\u001b[38;5;124;43mtools\u001b[39;49m\u001b[38;5;124;43m\"\u001b[39;49m\u001b[43m:\u001b[49m\u001b[43m \u001b[49m\u001b[43mtools\u001b[49m\u001b[43m,\u001b[49m\n\u001b[1;32m    859\u001b[0m \u001b[43m                \u001b[49m\u001b[38;5;124;43m\"\u001b[39;49m\u001b[38;5;124;43mtop_logprobs\u001b[39;49m\u001b[38;5;124;43m\"\u001b[39;49m\u001b[43m:\u001b[49m\u001b[43m \u001b[49m\u001b[43mtop_logprobs\u001b[49m\u001b[43m,\u001b[49m\n\u001b[1;32m    860\u001b[0m \u001b[43m                \u001b[49m\u001b[38;5;124;43m\"\u001b[39;49m\u001b[38;5;124;43mtop_p\u001b[39;49m\u001b[38;5;124;43m\"\u001b[39;49m\u001b[43m:\u001b[49m\u001b[43m \u001b[49m\u001b[43mtop_p\u001b[49m\u001b[43m,\u001b[49m\n\u001b[1;32m    861\u001b[0m \u001b[43m                \u001b[49m\u001b[38;5;124;43m\"\u001b[39;49m\u001b[38;5;124;43muser\u001b[39;49m\u001b[38;5;124;43m\"\u001b[39;49m\u001b[43m:\u001b[49m\u001b[43m \u001b[49m\u001b[43muser\u001b[49m\u001b[43m,\u001b[49m\n\u001b[1;32m    862\u001b[0m \u001b[43m            \u001b[49m\u001b[43m}\u001b[49m\u001b[43m,\u001b[49m\n\u001b[1;32m    863\u001b[0m \u001b[43m            \u001b[49m\u001b[43mcompletion_create_params\u001b[49m\u001b[38;5;241;43m.\u001b[39;49m\u001b[43mCompletionCreateParams\u001b[49m\u001b[43m,\u001b[49m\n\u001b[1;32m    864\u001b[0m \u001b[43m        \u001b[49m\u001b[43m)\u001b[49m\u001b[43m,\u001b[49m\n\u001b[1;32m    865\u001b[0m \u001b[43m        \u001b[49m\u001b[43moptions\u001b[49m\u001b[38;5;241;43m=\u001b[39;49m\u001b[43mmake_request_options\u001b[49m\u001b[43m(\u001b[49m\n\u001b[1;32m    866\u001b[0m \u001b[43m            \u001b[49m\u001b[43mextra_headers\u001b[49m\u001b[38;5;241;43m=\u001b[39;49m\u001b[43mextra_headers\u001b[49m\u001b[43m,\u001b[49m\u001b[43m \u001b[49m\u001b[43mextra_query\u001b[49m\u001b[38;5;241;43m=\u001b[39;49m\u001b[43mextra_query\u001b[49m\u001b[43m,\u001b[49m\u001b[43m \u001b[49m\u001b[43mextra_body\u001b[49m\u001b[38;5;241;43m=\u001b[39;49m\u001b[43mextra_body\u001b[49m\u001b[43m,\u001b[49m\u001b[43m \u001b[49m\u001b[43mtimeout\u001b[49m\u001b[38;5;241;43m=\u001b[39;49m\u001b[43mtimeout\u001b[49m\n\u001b[1;32m    867\u001b[0m \u001b[43m        \u001b[49m\u001b[43m)\u001b[49m\u001b[43m,\u001b[49m\n\u001b[1;32m    868\u001b[0m \u001b[43m        \u001b[49m\u001b[43mcast_to\u001b[49m\u001b[38;5;241;43m=\u001b[39;49m\u001b[43mChatCompletion\u001b[49m\u001b[43m,\u001b[49m\n\u001b[1;32m    869\u001b[0m \u001b[43m        \u001b[49m\u001b[43mstream\u001b[49m\u001b[38;5;241;43m=\u001b[39;49m\u001b[43mstream\u001b[49m\u001b[43m \u001b[49m\u001b[38;5;129;43;01mor\u001b[39;49;00m\u001b[43m \u001b[49m\u001b[38;5;28;43;01mFalse\u001b[39;49;00m\u001b[43m,\u001b[49m\n\u001b[1;32m    870\u001b[0m \u001b[43m        \u001b[49m\u001b[43mstream_cls\u001b[49m\u001b[38;5;241;43m=\u001b[39;49m\u001b[43mStream\u001b[49m\u001b[43m[\u001b[49m\u001b[43mChatCompletionChunk\u001b[49m\u001b[43m]\u001b[49m\u001b[43m,\u001b[49m\n\u001b[1;32m    871\u001b[0m \u001b[43m    \u001b[49m\u001b[43m)\u001b[49m\n",
      "File \u001b[0;32m~/miniconda3/envs/leng/lib/python3.13/site-packages/openai/_base_client.py:1280\u001b[0m, in \u001b[0;36mSyncAPIClient.post\u001b[0;34m(self, path, cast_to, body, options, files, stream, stream_cls)\u001b[0m\n\u001b[1;32m   1266\u001b[0m \u001b[38;5;28;01mdef\u001b[39;00m \u001b[38;5;21mpost\u001b[39m(\n\u001b[1;32m   1267\u001b[0m     \u001b[38;5;28mself\u001b[39m,\n\u001b[1;32m   1268\u001b[0m     path: \u001b[38;5;28mstr\u001b[39m,\n\u001b[0;32m   (...)\u001b[0m\n\u001b[1;32m   1275\u001b[0m     stream_cls: \u001b[38;5;28mtype\u001b[39m[_StreamT] \u001b[38;5;241m|\u001b[39m \u001b[38;5;28;01mNone\u001b[39;00m \u001b[38;5;241m=\u001b[39m \u001b[38;5;28;01mNone\u001b[39;00m,\n\u001b[1;32m   1276\u001b[0m ) \u001b[38;5;241m-\u001b[39m\u001b[38;5;241m>\u001b[39m ResponseT \u001b[38;5;241m|\u001b[39m _StreamT:\n\u001b[1;32m   1277\u001b[0m     opts \u001b[38;5;241m=\u001b[39m FinalRequestOptions\u001b[38;5;241m.\u001b[39mconstruct(\n\u001b[1;32m   1278\u001b[0m         method\u001b[38;5;241m=\u001b[39m\u001b[38;5;124m\"\u001b[39m\u001b[38;5;124mpost\u001b[39m\u001b[38;5;124m\"\u001b[39m, url\u001b[38;5;241m=\u001b[39mpath, json_data\u001b[38;5;241m=\u001b[39mbody, files\u001b[38;5;241m=\u001b[39mto_httpx_files(files), \u001b[38;5;241m*\u001b[39m\u001b[38;5;241m*\u001b[39moptions\n\u001b[1;32m   1279\u001b[0m     )\n\u001b[0;32m-> 1280\u001b[0m     \u001b[38;5;28;01mreturn\u001b[39;00m cast(ResponseT, \u001b[38;5;28;43mself\u001b[39;49m\u001b[38;5;241;43m.\u001b[39;49m\u001b[43mrequest\u001b[49m\u001b[43m(\u001b[49m\u001b[43mcast_to\u001b[49m\u001b[43m,\u001b[49m\u001b[43m \u001b[49m\u001b[43mopts\u001b[49m\u001b[43m,\u001b[49m\u001b[43m \u001b[49m\u001b[43mstream\u001b[49m\u001b[38;5;241;43m=\u001b[39;49m\u001b[43mstream\u001b[49m\u001b[43m,\u001b[49m\u001b[43m \u001b[49m\u001b[43mstream_cls\u001b[49m\u001b[38;5;241;43m=\u001b[39;49m\u001b[43mstream_cls\u001b[49m\u001b[43m)\u001b[49m)\n",
      "File \u001b[0;32m~/miniconda3/envs/leng/lib/python3.13/site-packages/openai/_base_client.py:957\u001b[0m, in \u001b[0;36mSyncAPIClient.request\u001b[0;34m(self, cast_to, options, remaining_retries, stream, stream_cls)\u001b[0m\n\u001b[1;32m    954\u001b[0m \u001b[38;5;28;01melse\u001b[39;00m:\n\u001b[1;32m    955\u001b[0m     retries_taken \u001b[38;5;241m=\u001b[39m \u001b[38;5;241m0\u001b[39m\n\u001b[0;32m--> 957\u001b[0m \u001b[38;5;28;01mreturn\u001b[39;00m \u001b[38;5;28;43mself\u001b[39;49m\u001b[38;5;241;43m.\u001b[39;49m\u001b[43m_request\u001b[49m\u001b[43m(\u001b[49m\n\u001b[1;32m    958\u001b[0m \u001b[43m    \u001b[49m\u001b[43mcast_to\u001b[49m\u001b[38;5;241;43m=\u001b[39;49m\u001b[43mcast_to\u001b[49m\u001b[43m,\u001b[49m\n\u001b[1;32m    959\u001b[0m \u001b[43m    \u001b[49m\u001b[43moptions\u001b[49m\u001b[38;5;241;43m=\u001b[39;49m\u001b[43moptions\u001b[49m\u001b[43m,\u001b[49m\n\u001b[1;32m    960\u001b[0m \u001b[43m    \u001b[49m\u001b[43mstream\u001b[49m\u001b[38;5;241;43m=\u001b[39;49m\u001b[43mstream\u001b[49m\u001b[43m,\u001b[49m\n\u001b[1;32m    961\u001b[0m \u001b[43m    \u001b[49m\u001b[43mstream_cls\u001b[49m\u001b[38;5;241;43m=\u001b[39;49m\u001b[43mstream_cls\u001b[49m\u001b[43m,\u001b[49m\n\u001b[1;32m    962\u001b[0m \u001b[43m    \u001b[49m\u001b[43mretries_taken\u001b[49m\u001b[38;5;241;43m=\u001b[39;49m\u001b[43mretries_taken\u001b[49m\u001b[43m,\u001b[49m\n\u001b[1;32m    963\u001b[0m \u001b[43m\u001b[49m\u001b[43m)\u001b[49m\n",
      "File \u001b[0;32m~/miniconda3/envs/leng/lib/python3.13/site-packages/openai/_base_client.py:1061\u001b[0m, in \u001b[0;36mSyncAPIClient._request\u001b[0;34m(self, cast_to, options, retries_taken, stream, stream_cls)\u001b[0m\n\u001b[1;32m   1058\u001b[0m         err\u001b[38;5;241m.\u001b[39mresponse\u001b[38;5;241m.\u001b[39mread()\n\u001b[1;32m   1060\u001b[0m     log\u001b[38;5;241m.\u001b[39mdebug(\u001b[38;5;124m\"\u001b[39m\u001b[38;5;124mRe-raising status error\u001b[39m\u001b[38;5;124m\"\u001b[39m)\n\u001b[0;32m-> 1061\u001b[0m     \u001b[38;5;28;01mraise\u001b[39;00m \u001b[38;5;28mself\u001b[39m\u001b[38;5;241m.\u001b[39m_make_status_error_from_response(err\u001b[38;5;241m.\u001b[39mresponse) \u001b[38;5;28;01mfrom\u001b[39;00m \u001b[38;5;28;01mNone\u001b[39;00m\n\u001b[1;32m   1063\u001b[0m \u001b[38;5;28;01mreturn\u001b[39;00m \u001b[38;5;28mself\u001b[39m\u001b[38;5;241m.\u001b[39m_process_response(\n\u001b[1;32m   1064\u001b[0m     cast_to\u001b[38;5;241m=\u001b[39mcast_to,\n\u001b[1;32m   1065\u001b[0m     options\u001b[38;5;241m=\u001b[39moptions,\n\u001b[0;32m   (...)\u001b[0m\n\u001b[1;32m   1069\u001b[0m     retries_taken\u001b[38;5;241m=\u001b[39mretries_taken,\n\u001b[1;32m   1070\u001b[0m )\n",
      "\u001b[0;31mAuthenticationError\u001b[0m: Error code: 401 - {'error': {'message': 'Incorrect API key provided: sk-proj-********************************************************************************************************************************************************R3YA. You can find your API key at https://platform.openai.com/account/api-keys.', 'type': 'invalid_request_error', 'param': None, 'code': 'invalid_api_key'}}"
     ]
    }
   ],
   "source": [
    "# Definimos la pregunta que queremos hacer\n",
    "question = query\n",
    "\n",
    "# Creamos el prompt combinando la pregunta y los textos\n",
    "prompt = f\"A partir de los siguientes documentos, responde a la pregunta: {question}. \\n\\n{text}\"\n",
    "\n",
    "# Hacemos la consulta a ChatGPT\n",
    "chat_completion = chatgpt.chat.completions.create(\n",
    "    messages=[\n",
    "        {\n",
    "            \"role\": \"user\",\n",
    "\n",
    "\n",
    "            \"content\": prompt,  # Aquí enviamos el prompt modificado\n",
    "        }\n",
    "    ],\n",
    "    model=\"gpt-3.5-turbo\",  # Modelo que quieres usar\n",
    ")"
   ]
  },
  {
   "cell_type": "code",
   "execution_count": null,
   "id": "51e1e9ce-3a16-45e4-b393-72c39773b131",
   "metadata": {},
   "outputs": [],
   "source": [
    "# Imprimimos la respuesta generada por ChatGPT\n",
    "print(chat_completion.choices[0].message.content)"
   ]
  },
  {
   "cell_type": "markdown",
   "id": "a9325bab",
   "metadata": {},
   "source": [
    "# TAREA \n"
   ]
  },
  {
   "cell_type": "code",
   "execution_count": null,
   "id": "ca8577e6",
   "metadata": {},
   "outputs": [],
   "source": [
    "api_key = \"api-api-NM5yQ9AyrOsYL2x4aR9M9qumCdzGEr01xsBFhPCR-Bn4h5M-rRD8-R6zZNUR3YA\"\n",
    "embeddings = OpenAIEmbeddings(openai_api_key=api_key)\n",
    "\n",
    "# Función para almacenar documentos en ChromaDB\n",
    "def store_in_chromadb(documents):\n",
    "    for idx, doc in enumerate(documents):\n",
    "        embedding = embeddings.embed_query(doc)\n",
    "        collection.add(\n",
    "            ids=[str(idx)],  # Generamos un id único para cada documento (en este caso, el índice como string)\n",
    "            documents=[doc],\n",
    "            embeddings=[embedding]\n",
    "        )\n",
    "\n",
    "import uuid\n",
    "# Función para almacenar documentos en ChromaDB\n",
    "def store_in_chromadb(documents):\n",
    "    for doc in documents:\n",
    "        # Generamos un UUID único para cada documento\n",
    "        unique_id = str(uuid.uuid4())\n",
    "        \n",
    "        # Obtener el embedding para el documento\n",
    "        embedding = embeddings.embed_query(doc)\n",
    "        \n",
    "        # Agregar el documento a la base de datos\n",
    "        collection.add(\n",
    "            ids=[unique_id],  # Usamos el UUID como ID\n",
    "            documents=[doc],\n",
    "            embeddings=[embedding]\n",
    "        )"
   ]
  },
  {
   "cell_type": "code",
   "execution_count": null,
   "id": "b2f66266",
   "metadata": {},
   "outputs": [],
   "source": [
    "# Función para realizar la búsqueda en ChromaDB\n",
    "def search_in_chromadb(query):\n",
    "    # Realiza la búsqueda en ChromaDB utilizando la consulta\n",
    "    results = collection.query(\n",
    "        query_embeddings=embeddings.embed_query(query),\n",
    "        n_results=10  # Número de resultados a obtener\n",
    "    )\n",
    "    return results"
   ]
  },
  {
   "cell_type": "code",
   "execution_count": null,
   "id": "7c368a23",
   "metadata": {},
   "outputs": [],
   "source": [
    "# Función para generar una respuesta usando contexto de ChromaDB\n",
    "llm = ChatOpenAI(temperature=0.7, openai_api_key=api_key, model='gpt-3.5-turbo')\n",
    "chain = prompt | llm\n",
    "def generate_answer_with_context(query):\n",
    "    # Paso 1: Buscar los documentos relevantes en ChromaDB\n",
    "    search_results = search_in_chromadb(query)\n",
    "    \n",
    "    # Imprimir el contenido de search_results para depuración\n",
    "    print(\"Resultados de la búsqueda:\", search_results)\n",
    "\n",
    "    # Paso 2: Asegurarnos de que los documentos son cadenas y concatenarlos como contexto\n",
    "    # Revisamos el contenido de los documentos antes de concatenar\n",
    "    relevant_docs = \"\\n\".join([str(doc) for doc in search_results['documents']])\n",
    "    \n",
    "    # Paso 3: Usar el modelo LLM para generar la respuesta utilizando ese contexto\n",
    "    prompt_template = f\"Usa el siguiente contexto para responder la siguiente pregunta:\\n{relevant_docs}\\n\\nPregunta: {query}\"\n",
    "    \n",
    "    # Ejecutar el modelo para generar la respuesta\n",
    "    answer = chain.invoke({\"persona\": prompt_template})\n",
    "    return answer"
   ]
  },
  {
   "cell_type": "code",
   "execution_count": null,
   "id": "95fdb3fe",
   "metadata": {},
   "outputs": [],
   "source": [
    "####################\n",
    "####################\n",
    "#buscar noticias que hablen de la tematica\n",
    "def search_news_by_theme_and_dates(theme, start_date, end_date):\n",
    "    query = f\"{theme}\"\n",
    "    search_results = search_in_chromadb(query)\n",
    "    \n",
    "    # Filtrar las noticias por fecha\n",
    "    filtered_news = []\n",
    "    for doc, metadata in zip(search_results['documents'], search_results['metadatas']):\n",
    "        doc_date = metadata['date']\n",
    "        if start_date <= doc_date <= end_date:\n",
    "            filtered_news.append(doc)\n",
    "    \n",
    "    return filtered_news\n",
    "####################\n",
    "####################\n",
    "import re\n",
    "from collections import Counter\n",
    "\n",
    "def count_people_in_news(news_list):\n",
    "    people_pattern = re.compile(r'\\b[A-Z][a-z]*\\s[A-Z][a-z]*\\b')\n",
    "    all_people = []\n",
    "\n",
    "    for news in news_list:\n",
    "        matches = people_pattern.findall(news)\n",
    "        all_people.extend(matches)\n",
    "\n",
    "    people_count = Counter(all_people)\n",
    "    return people_count\n",
    "####################\n",
    "####################\n",
    "#funcion para almacenar personas en ChromaDB\n",
    "def filter_news_by_person(person_name):\n",
    "    query = f\"Menciona a {person_name}\"\n",
    "    search_results = search_in_chromadb(query)\n",
    "    \n",
    "    # Filtrar las noticias que mencionan a la persona\n",
    "    filtered_news = [doc for doc in search_results['documents'] if person_name in doc]\n",
    "    \n",
    "    return filtered_news\n",
    "####################\n",
    "####################\n",
    "#funcion para extraer datos personales de una persona\n",
    "import re\n",
    "\n",
    "def extract_personal_data(person_name, documents):\n",
    "    personal_data = {}\n",
    "    \n",
    "    # Definir patrones de regex para extraer datos personales\n",
    "    patterns = {\n",
    "        \"nombre\": re.compile(rf\"{person_name}\"),\n",
    "        \"nacimiento\": re.compile(r\"nació en ([\\w\\s]+)\"),\n",
    "        \"educación\": re.compile(r\"estudió en ([\\w\\s]+)\"),\n",
    "        \"trabajo\": re.compile(r\"trabajado en ([\\w\\s]+)\")\n",
    "    }\n",
    "    \n",
    "    for doc in documents:\n",
    "        for key, pattern in patterns.items():\n",
    "            match = pattern.search(doc)\n",
    "            if match:\n",
    "                personal_data[key] = match.group(1)\n",
    "    \n",
    "    return personal_data\n",
    "####################\n",
    "####################\n",
    "# funcion para buscar, filtrar y extraer datos personales\n",
    "def get_personal_data(person_name):\n",
    "    # Filtrar las noticias que mencionan a la persona\n",
    "    filtered_news = filter_news_by_person(person_name)\n",
    "    \n",
    "    # Extraer datos personales de las noticias filtradas\n",
    "    personal_data = extract_personal_data(person_name, filtered_news)\n",
    "    \n",
    "    return personal_data\n",
    "####################\n",
    "####################\n",
    "import requests\n",
    "def search_image(query):\n",
    "    response = requests.get(f\"https://api.duckduckgo.com/\", params={\n",
    "        \"q\": query,\n",
    "        \"format\": \"json\",\n",
    "        \"no_html\": 1,\n",
    "        \"no_redirect\": 1,\n",
    "        \"t\": \"langchain\"\n",
    "    })\n",
    "    results = response.json().get('RelatedTopics', [])\n",
    "    for result in results:\n",
    "        if 'Icon' in result and 'URL' in result['Icon']:\n",
    "            return result['Icon']['URL']\n",
    "    return \"No se encontró una imagen.\"\n",
    "####################\n",
    "####################\n",
    "def get_image_link(person_name):\n",
    "    query = f\"{person_name} foto\"\n",
    "    image_link = search_image(query)\n",
    "    return image_link\n",
    "####################\n",
    "####################\n"
   ]
  },
  {
   "cell_type": "code",
   "execution_count": null,
   "id": "8728c158",
   "metadata": {},
   "outputs": [],
   "source": [
    "# Función para búsqueda en ChromaDB (o cualquier otra base de datos)\n",
    "def search_tool(query):\n",
    "    search_results = search_in_chromadb(query)\n",
    "    return \"\\n\".join([str(doc) for doc in search_results['documents']])\n",
    "\n",
    "# Función para búsqueda en Wikipedia\n",
    "def wikipedia_search(query):\n",
    "    response = requests.get(f\"https://es.wikipedia.org/w/api.php\", params={\n",
    "        \"action\": \"query\",\n",
    "        \"format\": \"json\",\n",
    "        \"titles\": query,\n",
    "        \"prop\": \"extracts\",\n",
    "        \"exintro\": True\n",
    "    })\n",
    "    pages = response.json()['query']['pages']\n",
    "    page = next(iter(pages.values()))\n",
    "    return page.get('extract', \"No se encontró información en Wikipedia.\")\n",
    "\n",
    "######################################################\n",
    "######################################################\n",
    "#Función para búsqueda en un motor de búsqueda (ejemplo usando DuckDuckGo)\n",
    "def search_engine(query):\n",
    "    response = requests.get(f\"https://api.duckduckgo.com/\", params={\n",
    "        \"q\": query,\n",
    "        \"format\": \"json\"\n",
    "    })\n",
    "    results = response.json().get('RelatedTopics', [])\n",
    "    return \"\\n\".join([result['Text'] for result in results if 'Text' in result])\n",
    "######################################################\n",
    "######################################################\n",
    "# Función para extraer datos personales de una persona desde Wikipedia\n",
    "def extract_personal_data_from_wikipedia(person_name):\n",
    "    summary = wikipedia_search(person_name)\n",
    "    personal_data = {\n",
    "        \"nombre\": person_name,\n",
    "        \"resumen\": summary\n",
    "    }\n",
    "    return personal_data\n",
    "####################\n",
    "####################\n",
    "# Función para extraer datos personales de una persona desde un motor de búsqueda\n",
    "def extract_personal_data_from_search_engine(person_name):\n",
    "    summary = search_engine(person_name)\n",
    "    personal_data = {\n",
    "        \"nombre\": person_name,\n",
    "        \"resumen\": summary\n",
    "    }\n",
    "    return personal_data\n",
    "####################\n",
    "####################\n",
    "\n",
    "# Función para análisis de sentimientos usando TextBlob\n",
    "def sentiment_analysis_tool(query):\n",
    "    blob = TextBlob(query)\n",
    "    polarity = blob.sentiment.polarity\n",
    "    if polarity > 0:\n",
    "        return \"El sentimiento es positivo.\"\n",
    "    elif polarity < 0:\n",
    "        return \"El sentimiento es negativo.\"\n",
    "    else:\n",
    "        return \"El sentimiento es neutral.\"\n",
    "\n",
    "# Función para resolver cálculos matemáticos\n",
    "def math_tool(query):\n",
    "    try:\n",
    "        # Usando eval como ejemplo, puedes integrar con algo como WolframAlpha\n",
    "        result = eval(query)\n",
    "        return f\"El resultado del cálculo es: {result}\"\n",
    "    except Exception as e:\n",
    "        return f\"No pude resolver el cálculo: {e}\"\n",
    "\n",
    "\n",
    "# Inicializar el LLM\n",
    "llm = OpenAI(api_key=api_key, temperature=0.7)\n",
    "\n",
    "# Crear herramientas\n",
    "tools = [\n",
    "    Tool(\n",
    "        name=\"ChromaDB Search\",\n",
    "        func=search_tool,\n",
    "        description=\"Busca en la base de datos de ChromaDB los documentos relevantes.\"\n",
    "    ),\n",
    "    Tool(\n",
    "        name=\"Wikipedia Search\",\n",
    "        func=wikipedia_search,\n",
    "        description=\"Consulta Wikipedia para obtener más información sobre el tema.\"\n",
    "    ),\n",
    "    ######################################################\n",
    "    ######################################################\n",
    "    Tool(\n",
    "        name=\"Search Engine\",\n",
    "        func=search_engine,\n",
    "        description=\"Realiza una búsqueda en un motor de búsqueda para obtener información relevante.\"\n",
    "    ),\n",
    "    ######################################################\n",
    "    ######################################################\n",
    "    Tool(\n",
    "        name=\"Sentiment Analysis\",\n",
    "        func=sentiment_analysis_tool,\n",
    "        description=\"Analiza el sentimiento de un texto.\"\n",
    "    ),\n",
    "    Tool(\n",
    "         name=\"Math Tool\",\n",
    "         func=math_tool,\n",
    "         description=\"Resuelve cálculos matemáticos simples, por ejemplo, 2+2.\"\n",
    "    )\n",
    "]\n",
    "\n",
    "# Definir el prompt usando PromptTemplate\n",
    "prompt_template = \"\"\"\n",
    "Eres un agente que puede interactuar con herramientas para obtener información relevante para responder preguntas. \n",
    "Tienes acceso a dos herramientas:\n",
    "\n",
    "1. **ChromaDB Search**: Busca en una base de datos de documentos para obtener información relevante.\n",
    "2. **Wikipedia Search**: Realiza una consulta a Wikipedia para obtener un resumen de un tema.\n",
    "\n",
    "3. **Search Engine**: Realiza una búsqueda en un motor de búsqueda para obtener información relevante.\n",
    "\n",
    "4. **Sentiment Analysis**: Analiza el sentimiento de un texto (positivo, negativo, neutral).\n",
    "5. **Math Tool**: Resuelve cálculos matemáticos.\n",
    "\n",
    "Cuando recibas una pregunta, debes decidir qué herramienta usar y cómo responder de manera concisa y precisa. \n",
    "Si es posible, utiliza primero la búsqueda en ChromaDB, si no encuentras suficiente información, consulta Wikipedia o el motor de búsqueda.Deberias utilizar ChromaDB primero.\n",
    "Si la pregunta es sobre emociones o sentimientos, usa el análisis de sentimientos. \n",
    "Si la pregunta involucra matemáticas, usa la herramienta de cálculos.\n",
    "\n",
    "Asegúrate de considerar el contexto y usar las herramientas de manera inteligente.\n",
    "\"\"\"\n",
    "\n",
    "# Crear el PromptTemplate\n",
    "prompt = PromptTemplate(input_variables=[\"tools\", \"query\", \"agent_scratchpad\", \"tool_names\"], template=prompt_template)\n",
    "\n",
    "# Crear el agente React usando `initialize_agent` (asegurando que pasemos los argumentos correctamente)\n",
    "agent = initialize_agent(\n",
    "    tools=tools,\n",
    "    llm=llm,\n",
    "    agent_type=AgentType.ZERO_SHOT_REACT_DESCRIPTION,\n",
    "    verbose=True\n",
    ")\n"
   ]
  },
  {
   "cell_type": "markdown",
   "id": "510992d9",
   "metadata": {},
   "source": [
    "# pregunta 1"
   ]
  },
  {
   "cell_type": "code",
   "execution_count": null,
   "id": "107c412e",
   "metadata": {},
   "outputs": [],
   "source": [
    "# Ejecutar el agente con una consulta compleja\n",
    "query = \"¿Cuales son las personas que más se mencionan entre dos fechas sobre la temática del hidrogeno verde?\"\n",
    "response = agent.invoke(query)\n",
    "\n",
    "# Mostrar la respuesta\n",
    "print(response)"
   ]
  },
  {
   "cell_type": "markdown",
   "id": "5e70c900",
   "metadata": {},
   "source": [
    "# pregunta 2"
   ]
  },
  {
   "cell_type": "code",
   "execution_count": null,
   "id": "71a4f293",
   "metadata": {},
   "outputs": [],
   "source": [
    "# Ejecutar el agente con una consulta compleja\n",
    "query = \"¿Quién es “Juan Carlos Jobet”?\"\n",
    "response = agent.invoke(query)\n",
    "\n",
    "# Mostrar la respuesta\n",
    "print(response)\n",
    "\n",
    "person_name = \"Juan Carlos Jobet\"\n",
    "filtered_news = filter_news_by_person(person_name)\n",
    "print(\"Noticias que mencionan a\", person_name, \":\", filtered_news)\n",
    "\n",
    "person_name = \"Juan Carlos Jobet\"\n",
    "personal_data = get_personal_data(person_name)\n",
    "print(\"Datos personales de\", person_name, \":\", personal_data)"
   ]
  },
  {
   "cell_type": "markdown",
   "id": "638a7e9d",
   "metadata": {},
   "source": [
    "# pregunta 3"
   ]
  },
  {
   "cell_type": "code",
   "execution_count": null,
   "id": "dacead6a",
   "metadata": {},
   "outputs": [],
   "source": [
    "# Ejecutar el agente con una consulta compleja\n",
    "query = \"¿Cuál su opinión o su posición sobre el hidrógeno verde?\"\n",
    "response = agent.invoke(query)\n",
    "\n",
    "# Mostrar la respuesta\n",
    "print(response)"
   ]
  },
  {
   "cell_type": "markdown",
   "id": "e19a38fc",
   "metadata": {},
   "source": [
    "# pregunta 4"
   ]
  },
  {
   "cell_type": "code",
   "execution_count": null,
   "id": "580cf41f",
   "metadata": {},
   "outputs": [],
   "source": [
    "# Ejecutar el agente con una consulta compleja\n",
    "query = \"¿Qué déclaraciones ha realizado en el contexto del hidrógeno verde?\"\n",
    "response = agent.invoke(query)\n",
    "\n",
    "# Mostrar la respuesta\n",
    "print(response)"
   ]
  },
  {
   "cell_type": "markdown",
   "id": "19f4f2d6",
   "metadata": {},
   "source": [
    "# pregunta 5 "
   ]
  },
  {
   "cell_type": "code",
   "execution_count": null,
   "id": "7f908d1d",
   "metadata": {},
   "outputs": [],
   "source": [
    "# Ejecutar el agente con una consulta compleja\n",
    "query = \"Dame el enlace de una foto de Juan Carlos Jobet\"\n",
    "response = agent.invoke(query)\n",
    "\n",
    "# Mostrar la respuesta\n",
    "print(response)\n",
    "\n",
    "person_name = \"Juan Carlos Jobet\"\n",
    "image_link = get_image_link(person_name)\n",
    "print(\"Enlace de la foto de\", person_name, \":\", image_link)"
   ]
  },
  {
   "cell_type": "markdown",
   "id": "31955a7d",
   "metadata": {},
   "source": [
    "# pregunta 6"
   ]
  },
  {
   "cell_type": "code",
   "execution_count": null,
   "id": "8fe7564f",
   "metadata": {},
   "outputs": [],
   "source": [
    "# Ejecutar el agente con una consulta compleja\n",
    "query = \"¿Quienes son las personas más mencionadas en las noticias entre dos fechas?\"\n",
    "response = agent.invoke(query)\n",
    "\n",
    "# Mostrar la respuesta\n",
    "print(response)"
   ]
  },
  {
   "cell_type": "markdown",
   "id": "6b097023",
   "metadata": {},
   "source": []
  }
 ],
 "metadata": {
  "kernelspec": {
   "display_name": "leng",
   "language": "python",
   "name": "python3"
  },
  "language_info": {
   "codemirror_mode": {
    "name": "ipython",
    "version": 3
   },
   "file_extension": ".py",
   "mimetype": "text/x-python",
   "name": "python",
   "nbconvert_exporter": "python",
   "pygments_lexer": "ipython3",
   "version": "3.13.1"
  }
 },
 "nbformat": 4,
 "nbformat_minor": 5
}
